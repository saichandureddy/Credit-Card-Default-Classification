{
 "cells": [
  {
   "cell_type": "code",
   "execution_count": 2,
   "metadata": {
    "colab": {
     "base_uri": "https://localhost:8080/"
    },
    "id": "qZ6XB61DUXkT",
    "outputId": "c8ce061a-588e-4f53-e812-88f739141056"
   },
   "outputs": [
    {
     "name": "stdout",
     "output_type": "stream",
     "text": [
      "Looking in indexes: https://pypi.org/simple, https://us-python.pkg.dev/colab-wheels/public/simple/\n",
      "Requirement already satisfied: xlrd in /usr/local/lib/python3.7/dist-packages (1.1.0)\n",
      "Collecting xlrd\n",
      "  Downloading xlrd-2.0.1-py2.py3-none-any.whl (96 kB)\n",
      "\u001b[K     |████████████████████████████████| 96 kB 5.0 MB/s \n",
      "\u001b[?25hInstalling collected packages: xlrd\n",
      "  Attempting uninstall: xlrd\n",
      "    Found existing installation: xlrd 1.1.0\n",
      "    Uninstalling xlrd-1.1.0:\n",
      "      Successfully uninstalled xlrd-1.1.0\n",
      "Successfully installed xlrd-2.0.1\n"
     ]
    }
   ],
   "source": [
    "pip install --upgrade xlrd"
   ]
  },
  {
   "cell_type": "code",
   "execution_count": 3,
   "metadata": {
    "colab": {
     "base_uri": "https://localhost:8080/"
    },
    "id": "fU-JQQpmUfRv",
    "outputId": "e017e87c-d103-4759-a5e7-6c2a6703ec5c"
   },
   "outputs": [
    {
     "name": "stdout",
     "output_type": "stream",
     "text": [
      "Looking in indexes: https://pypi.org/simple, https://us-python.pkg.dev/colab-wheels/public/simple/\n",
      "Requirement already satisfied: pandas in /usr/local/lib/python3.7/dist-packages (1.3.5)\n",
      "Requirement already satisfied: pytz>=2017.3 in /usr/local/lib/python3.7/dist-packages (from pandas) (2022.1)\n",
      "Requirement already satisfied: python-dateutil>=2.7.3 in /usr/local/lib/python3.7/dist-packages (from pandas) (2.8.2)\n",
      "Requirement already satisfied: numpy>=1.17.3 in /usr/local/lib/python3.7/dist-packages (from pandas) (1.21.6)\n",
      "Requirement already satisfied: six>=1.5 in /usr/local/lib/python3.7/dist-packages (from python-dateutil>=2.7.3->pandas) (1.15.0)\n"
     ]
    }
   ],
   "source": [
    "!pip install --upgrade pandas"
   ]
  },
  {
   "cell_type": "code",
   "execution_count": 4,
   "metadata": {
    "id": "F3oEHfFzUfPa"
   },
   "outputs": [],
   "source": [
    "import pandas as pd\n",
    "import numpy as np\n",
    "import math\n",
    "import pandas_profiling\n",
    "from pandas_profiling import ProfileReport\n",
    "import seaborn as sns\n",
    "import matplotlib.pyplot as plt\n",
    "from tqdm import tqdm_notebook\n",
    "from sklearn.preprocessing import StandardScaler\n",
    "from  sklearn.model_selection import train_test_split \n",
    "from sklearn.linear_model import LogisticRegression\n",
    "from sklearn.neighbors import KNeighborsClassifier\n",
    "from sklearn.tree import DecisionTreeClassifier\n",
    "from sklearn.ensemble import RandomForestClassifier\n",
    "from sklearn.metrics import roc_auc_score, roc_curve, classification_report, confusion_matrix, f1_score, accuracy_score, precision_score, recall_score\n",
    "%matplotlib inline"
   ]
  },
  {
   "cell_type": "code",
   "execution_count": 1,
   "metadata": {
    "colab": {
     "base_uri": "https://localhost:8080/",
     "height": 346
    },
    "id": "E1c0PB54UfXe",
    "outputId": "e8709d8f-9506-4b61-9d0f-d076f8f9a594"
   },
   "outputs": [
    {
     "ename": "MessageError",
     "evalue": "ignored",
     "output_type": "error",
     "traceback": [
      "\u001b[0;31m---------------------------------------------------------------------------\u001b[0m",
      "\u001b[0;31mMessageError\u001b[0m                              Traceback (most recent call last)",
      "\u001b[0;32m<ipython-input-1-f5ffd89337e7>\u001b[0m in \u001b[0;36m<module>\u001b[0;34m()\u001b[0m\n\u001b[1;32m      1\u001b[0m \u001b[0;31m# Google Drive connection\u001b[0m\u001b[0;34m\u001b[0m\u001b[0;34m\u001b[0m\u001b[0;34m\u001b[0m\u001b[0m\n\u001b[1;32m      2\u001b[0m \u001b[0;32mfrom\u001b[0m \u001b[0mgoogle\u001b[0m\u001b[0;34m.\u001b[0m\u001b[0mcolab\u001b[0m \u001b[0;32mimport\u001b[0m \u001b[0mdrive\u001b[0m\u001b[0;34m\u001b[0m\u001b[0;34m\u001b[0m\u001b[0m\n\u001b[0;32m----> 3\u001b[0;31m \u001b[0mdrive\u001b[0m\u001b[0;34m.\u001b[0m\u001b[0mmount\u001b[0m\u001b[0;34m(\u001b[0m\u001b[0;34m'/content/drive'\u001b[0m\u001b[0;34m)\u001b[0m\u001b[0;34m\u001b[0m\u001b[0;34m\u001b[0m\u001b[0m\n\u001b[0m",
      "\u001b[0;32m/usr/local/lib/python3.7/dist-packages/google/colab/drive.py\u001b[0m in \u001b[0;36mmount\u001b[0;34m(mountpoint, force_remount, timeout_ms)\u001b[0m\n\u001b[1;32m    103\u001b[0m       \u001b[0mforce_remount\u001b[0m\u001b[0;34m=\u001b[0m\u001b[0mforce_remount\u001b[0m\u001b[0;34m,\u001b[0m\u001b[0;34m\u001b[0m\u001b[0;34m\u001b[0m\u001b[0m\n\u001b[1;32m    104\u001b[0m       \u001b[0mtimeout_ms\u001b[0m\u001b[0;34m=\u001b[0m\u001b[0mtimeout_ms\u001b[0m\u001b[0;34m,\u001b[0m\u001b[0;34m\u001b[0m\u001b[0;34m\u001b[0m\u001b[0m\n\u001b[0;32m--> 105\u001b[0;31m       ephemeral=True)\n\u001b[0m\u001b[1;32m    106\u001b[0m \u001b[0;34m\u001b[0m\u001b[0m\n\u001b[1;32m    107\u001b[0m \u001b[0;34m\u001b[0m\u001b[0m\n",
      "\u001b[0;32m/usr/local/lib/python3.7/dist-packages/google/colab/drive.py\u001b[0m in \u001b[0;36m_mount\u001b[0;34m(mountpoint, force_remount, timeout_ms, ephemeral)\u001b[0m\n\u001b[1;32m    118\u001b[0m   \u001b[0;32mif\u001b[0m \u001b[0mephemeral\u001b[0m\u001b[0;34m:\u001b[0m\u001b[0;34m\u001b[0m\u001b[0;34m\u001b[0m\u001b[0m\n\u001b[1;32m    119\u001b[0m     _message.blocking_request(\n\u001b[0;32m--> 120\u001b[0;31m         'request_auth', request={'authType': 'dfs_ephemeral'}, timeout_sec=None)\n\u001b[0m\u001b[1;32m    121\u001b[0m \u001b[0;34m\u001b[0m\u001b[0m\n\u001b[1;32m    122\u001b[0m   \u001b[0mmountpoint\u001b[0m \u001b[0;34m=\u001b[0m \u001b[0m_os\u001b[0m\u001b[0;34m.\u001b[0m\u001b[0mpath\u001b[0m\u001b[0;34m.\u001b[0m\u001b[0mexpanduser\u001b[0m\u001b[0;34m(\u001b[0m\u001b[0mmountpoint\u001b[0m\u001b[0;34m)\u001b[0m\u001b[0;34m\u001b[0m\u001b[0;34m\u001b[0m\u001b[0m\n",
      "\u001b[0;32m/usr/local/lib/python3.7/dist-packages/google/colab/_message.py\u001b[0m in \u001b[0;36mblocking_request\u001b[0;34m(request_type, request, timeout_sec, parent)\u001b[0m\n\u001b[1;32m    169\u001b[0m   request_id = send_request(\n\u001b[1;32m    170\u001b[0m       request_type, request, parent=parent, expect_reply=True)\n\u001b[0;32m--> 171\u001b[0;31m   \u001b[0;32mreturn\u001b[0m \u001b[0mread_reply_from_input\u001b[0m\u001b[0;34m(\u001b[0m\u001b[0mrequest_id\u001b[0m\u001b[0;34m,\u001b[0m \u001b[0mtimeout_sec\u001b[0m\u001b[0;34m)\u001b[0m\u001b[0;34m\u001b[0m\u001b[0;34m\u001b[0m\u001b[0m\n\u001b[0m",
      "\u001b[0;32m/usr/local/lib/python3.7/dist-packages/google/colab/_message.py\u001b[0m in \u001b[0;36mread_reply_from_input\u001b[0;34m(message_id, timeout_sec)\u001b[0m\n\u001b[1;32m    100\u001b[0m         reply.get('colab_msg_id') == message_id):\n\u001b[1;32m    101\u001b[0m       \u001b[0;32mif\u001b[0m \u001b[0;34m'error'\u001b[0m \u001b[0;32min\u001b[0m \u001b[0mreply\u001b[0m\u001b[0;34m:\u001b[0m\u001b[0;34m\u001b[0m\u001b[0;34m\u001b[0m\u001b[0m\n\u001b[0;32m--> 102\u001b[0;31m         \u001b[0;32mraise\u001b[0m \u001b[0mMessageError\u001b[0m\u001b[0;34m(\u001b[0m\u001b[0mreply\u001b[0m\u001b[0;34m[\u001b[0m\u001b[0;34m'error'\u001b[0m\u001b[0;34m]\u001b[0m\u001b[0;34m)\u001b[0m\u001b[0;34m\u001b[0m\u001b[0;34m\u001b[0m\u001b[0m\n\u001b[0m\u001b[1;32m    103\u001b[0m       \u001b[0;32mreturn\u001b[0m \u001b[0mreply\u001b[0m\u001b[0;34m.\u001b[0m\u001b[0mget\u001b[0m\u001b[0;34m(\u001b[0m\u001b[0;34m'data'\u001b[0m\u001b[0;34m,\u001b[0m \u001b[0;32mNone\u001b[0m\u001b[0;34m)\u001b[0m\u001b[0;34m\u001b[0m\u001b[0;34m\u001b[0m\u001b[0m\n\u001b[1;32m    104\u001b[0m \u001b[0;34m\u001b[0m\u001b[0m\n",
      "\u001b[0;31mMessageError\u001b[0m: Error: credential propagation was unsuccessful"
     ]
    }
   ],
   "source": [
    "# Google Drive connection\n",
    "from google.colab import drive\n",
    "drive.mount('/content/drive')"
   ]
  },
  {
   "cell_type": "code",
   "execution_count": 6,
   "metadata": {
    "colab": {
     "base_uri": "https://localhost:8080/",
     "height": 369
    },
    "id": "1jykoRBRUfUm",
    "outputId": "4b25c90e-1ec9-451d-bb32-ee9e33f5c3b5"
   },
   "outputs": [
    {
     "data": {
      "text/html": [
       "\n",
       "  <div id=\"df-73226ca1-091d-4979-940c-eab3858d2737\">\n",
       "    <div class=\"colab-df-container\">\n",
       "      <div>\n",
       "<style scoped>\n",
       "    .dataframe tbody tr th:only-of-type {\n",
       "        vertical-align: middle;\n",
       "    }\n",
       "\n",
       "    .dataframe tbody tr th {\n",
       "        vertical-align: top;\n",
       "    }\n",
       "\n",
       "    .dataframe thead th {\n",
       "        text-align: right;\n",
       "    }\n",
       "</style>\n",
       "<table border=\"1\" class=\"dataframe\">\n",
       "  <thead>\n",
       "    <tr style=\"text-align: right;\">\n",
       "      <th></th>\n",
       "      <th>Unnamed: 0</th>\n",
       "      <th>X1</th>\n",
       "      <th>X2</th>\n",
       "      <th>X3</th>\n",
       "      <th>X4</th>\n",
       "      <th>X5</th>\n",
       "      <th>X6</th>\n",
       "      <th>X7</th>\n",
       "      <th>X8</th>\n",
       "      <th>X9</th>\n",
       "      <th>...</th>\n",
       "      <th>X15</th>\n",
       "      <th>X16</th>\n",
       "      <th>X17</th>\n",
       "      <th>X18</th>\n",
       "      <th>X19</th>\n",
       "      <th>X20</th>\n",
       "      <th>X21</th>\n",
       "      <th>X22</th>\n",
       "      <th>X23</th>\n",
       "      <th>Y</th>\n",
       "    </tr>\n",
       "  </thead>\n",
       "  <tbody>\n",
       "    <tr>\n",
       "      <th>0</th>\n",
       "      <td>ID</td>\n",
       "      <td>LIMIT_BAL</td>\n",
       "      <td>SEX</td>\n",
       "      <td>EDUCATION</td>\n",
       "      <td>MARRIAGE</td>\n",
       "      <td>AGE</td>\n",
       "      <td>PAY_0</td>\n",
       "      <td>PAY_2</td>\n",
       "      <td>PAY_3</td>\n",
       "      <td>PAY_4</td>\n",
       "      <td>...</td>\n",
       "      <td>BILL_AMT4</td>\n",
       "      <td>BILL_AMT5</td>\n",
       "      <td>BILL_AMT6</td>\n",
       "      <td>PAY_AMT1</td>\n",
       "      <td>PAY_AMT2</td>\n",
       "      <td>PAY_AMT3</td>\n",
       "      <td>PAY_AMT4</td>\n",
       "      <td>PAY_AMT5</td>\n",
       "      <td>PAY_AMT6</td>\n",
       "      <td>default payment next month</td>\n",
       "    </tr>\n",
       "    <tr>\n",
       "      <th>1</th>\n",
       "      <td>1</td>\n",
       "      <td>20000</td>\n",
       "      <td>2</td>\n",
       "      <td>2</td>\n",
       "      <td>1</td>\n",
       "      <td>24</td>\n",
       "      <td>2</td>\n",
       "      <td>2</td>\n",
       "      <td>-1</td>\n",
       "      <td>-1</td>\n",
       "      <td>...</td>\n",
       "      <td>0</td>\n",
       "      <td>0</td>\n",
       "      <td>0</td>\n",
       "      <td>0</td>\n",
       "      <td>689</td>\n",
       "      <td>0</td>\n",
       "      <td>0</td>\n",
       "      <td>0</td>\n",
       "      <td>0</td>\n",
       "      <td>1</td>\n",
       "    </tr>\n",
       "    <tr>\n",
       "      <th>2</th>\n",
       "      <td>2</td>\n",
       "      <td>120000</td>\n",
       "      <td>2</td>\n",
       "      <td>2</td>\n",
       "      <td>2</td>\n",
       "      <td>26</td>\n",
       "      <td>-1</td>\n",
       "      <td>2</td>\n",
       "      <td>0</td>\n",
       "      <td>0</td>\n",
       "      <td>...</td>\n",
       "      <td>3272</td>\n",
       "      <td>3455</td>\n",
       "      <td>3261</td>\n",
       "      <td>0</td>\n",
       "      <td>1000</td>\n",
       "      <td>1000</td>\n",
       "      <td>1000</td>\n",
       "      <td>0</td>\n",
       "      <td>2000</td>\n",
       "      <td>1</td>\n",
       "    </tr>\n",
       "    <tr>\n",
       "      <th>3</th>\n",
       "      <td>3</td>\n",
       "      <td>90000</td>\n",
       "      <td>2</td>\n",
       "      <td>2</td>\n",
       "      <td>2</td>\n",
       "      <td>34</td>\n",
       "      <td>0</td>\n",
       "      <td>0</td>\n",
       "      <td>0</td>\n",
       "      <td>0</td>\n",
       "      <td>...</td>\n",
       "      <td>14331</td>\n",
       "      <td>14948</td>\n",
       "      <td>15549</td>\n",
       "      <td>1518</td>\n",
       "      <td>1500</td>\n",
       "      <td>1000</td>\n",
       "      <td>1000</td>\n",
       "      <td>1000</td>\n",
       "      <td>5000</td>\n",
       "      <td>0</td>\n",
       "    </tr>\n",
       "    <tr>\n",
       "      <th>4</th>\n",
       "      <td>4</td>\n",
       "      <td>50000</td>\n",
       "      <td>2</td>\n",
       "      <td>2</td>\n",
       "      <td>1</td>\n",
       "      <td>37</td>\n",
       "      <td>0</td>\n",
       "      <td>0</td>\n",
       "      <td>0</td>\n",
       "      <td>0</td>\n",
       "      <td>...</td>\n",
       "      <td>28314</td>\n",
       "      <td>28959</td>\n",
       "      <td>29547</td>\n",
       "      <td>2000</td>\n",
       "      <td>2019</td>\n",
       "      <td>1200</td>\n",
       "      <td>1100</td>\n",
       "      <td>1069</td>\n",
       "      <td>1000</td>\n",
       "      <td>0</td>\n",
       "    </tr>\n",
       "  </tbody>\n",
       "</table>\n",
       "<p>5 rows × 25 columns</p>\n",
       "</div>\n",
       "      <button class=\"colab-df-convert\" onclick=\"convertToInteractive('df-73226ca1-091d-4979-940c-eab3858d2737')\"\n",
       "              title=\"Convert this dataframe to an interactive table.\"\n",
       "              style=\"display:none;\">\n",
       "        \n",
       "  <svg xmlns=\"http://www.w3.org/2000/svg\" height=\"24px\"viewBox=\"0 0 24 24\"\n",
       "       width=\"24px\">\n",
       "    <path d=\"M0 0h24v24H0V0z\" fill=\"none\"/>\n",
       "    <path d=\"M18.56 5.44l.94 2.06.94-2.06 2.06-.94-2.06-.94-.94-2.06-.94 2.06-2.06.94zm-11 1L8.5 8.5l.94-2.06 2.06-.94-2.06-.94L8.5 2.5l-.94 2.06-2.06.94zm10 10l.94 2.06.94-2.06 2.06-.94-2.06-.94-.94-2.06-.94 2.06-2.06.94z\"/><path d=\"M17.41 7.96l-1.37-1.37c-.4-.4-.92-.59-1.43-.59-.52 0-1.04.2-1.43.59L10.3 9.45l-7.72 7.72c-.78.78-.78 2.05 0 2.83L4 21.41c.39.39.9.59 1.41.59.51 0 1.02-.2 1.41-.59l7.78-7.78 2.81-2.81c.8-.78.8-2.07 0-2.86zM5.41 20L4 18.59l7.72-7.72 1.47 1.35L5.41 20z\"/>\n",
       "  </svg>\n",
       "      </button>\n",
       "      \n",
       "  <style>\n",
       "    .colab-df-container {\n",
       "      display:flex;\n",
       "      flex-wrap:wrap;\n",
       "      gap: 12px;\n",
       "    }\n",
       "\n",
       "    .colab-df-convert {\n",
       "      background-color: #E8F0FE;\n",
       "      border: none;\n",
       "      border-radius: 50%;\n",
       "      cursor: pointer;\n",
       "      display: none;\n",
       "      fill: #1967D2;\n",
       "      height: 32px;\n",
       "      padding: 0 0 0 0;\n",
       "      width: 32px;\n",
       "    }\n",
       "\n",
       "    .colab-df-convert:hover {\n",
       "      background-color: #E2EBFA;\n",
       "      box-shadow: 0px 1px 2px rgba(60, 64, 67, 0.3), 0px 1px 3px 1px rgba(60, 64, 67, 0.15);\n",
       "      fill: #174EA6;\n",
       "    }\n",
       "\n",
       "    [theme=dark] .colab-df-convert {\n",
       "      background-color: #3B4455;\n",
       "      fill: #D2E3FC;\n",
       "    }\n",
       "\n",
       "    [theme=dark] .colab-df-convert:hover {\n",
       "      background-color: #434B5C;\n",
       "      box-shadow: 0px 1px 3px 1px rgba(0, 0, 0, 0.15);\n",
       "      filter: drop-shadow(0px 1px 2px rgba(0, 0, 0, 0.3));\n",
       "      fill: #FFFFFF;\n",
       "    }\n",
       "  </style>\n",
       "\n",
       "      <script>\n",
       "        const buttonEl =\n",
       "          document.querySelector('#df-73226ca1-091d-4979-940c-eab3858d2737 button.colab-df-convert');\n",
       "        buttonEl.style.display =\n",
       "          google.colab.kernel.accessAllowed ? 'block' : 'none';\n",
       "\n",
       "        async function convertToInteractive(key) {\n",
       "          const element = document.querySelector('#df-73226ca1-091d-4979-940c-eab3858d2737');\n",
       "          const dataTable =\n",
       "            await google.colab.kernel.invokeFunction('convertToInteractive',\n",
       "                                                     [key], {});\n",
       "          if (!dataTable) return;\n",
       "\n",
       "          const docLinkHtml = 'Like what you see? Visit the ' +\n",
       "            '<a target=\"_blank\" href=https://colab.research.google.com/notebooks/data_table.ipynb>data table notebook</a>'\n",
       "            + ' to learn more about interactive tables.';\n",
       "          element.innerHTML = '';\n",
       "          dataTable['output_type'] = 'display_data';\n",
       "          await google.colab.output.renderOutput(dataTable, element);\n",
       "          const docLink = document.createElement('div');\n",
       "          docLink.innerHTML = docLinkHtml;\n",
       "          element.appendChild(docLink);\n",
       "        }\n",
       "      </script>\n",
       "    </div>\n",
       "  </div>\n",
       "  "
      ],
      "text/plain": [
       "  Unnamed: 0         X1   X2         X3        X4   X5     X6     X7     X8  \\\n",
       "0         ID  LIMIT_BAL  SEX  EDUCATION  MARRIAGE  AGE  PAY_0  PAY_2  PAY_3   \n",
       "1          1      20000    2          2         1   24      2      2     -1   \n",
       "2          2     120000    2          2         2   26     -1      2      0   \n",
       "3          3      90000    2          2         2   34      0      0      0   \n",
       "4          4      50000    2          2         1   37      0      0      0   \n",
       "\n",
       "      X9  ...        X15        X16        X17       X18       X19       X20  \\\n",
       "0  PAY_4  ...  BILL_AMT4  BILL_AMT5  BILL_AMT6  PAY_AMT1  PAY_AMT2  PAY_AMT3   \n",
       "1     -1  ...          0          0          0         0       689         0   \n",
       "2      0  ...       3272       3455       3261         0      1000      1000   \n",
       "3      0  ...      14331      14948      15549      1518      1500      1000   \n",
       "4      0  ...      28314      28959      29547      2000      2019      1200   \n",
       "\n",
       "        X21       X22       X23                           Y  \n",
       "0  PAY_AMT4  PAY_AMT5  PAY_AMT6  default payment next month  \n",
       "1         0         0         0                           1  \n",
       "2      1000         0      2000                           1  \n",
       "3      1000      1000      5000                           0  \n",
       "4      1100      1069      1000                           0  \n",
       "\n",
       "[5 rows x 25 columns]"
      ]
     },
     "execution_count": 6,
     "metadata": {},
     "output_type": "execute_result"
    }
   ],
   "source": [
    "# Import the dataset\n",
    "import pandas as pd\n",
    "from google.colab import files\n",
    "df = pd.read_excel(\"/content/default of credit card clients.xls\")\n",
    "df.head()"
   ]
  },
  {
   "cell_type": "code",
   "execution_count": 7,
   "metadata": {
    "colab": {
     "base_uri": "https://localhost:8080/"
    },
    "id": "wkieaqsRUfdB",
    "outputId": "9b18cee1-6fbe-4a1d-aab0-f6e136d6b808"
   },
   "outputs": [
    {
     "data": {
      "text/plain": [
       "Index(['Unnamed: 0', 'X1', 'X2', 'X3', 'X4', 'X5', 'X6', 'X7', 'X8', 'X9',\n",
       "       'X10', 'X11', 'X12', 'X13', 'X14', 'X15', 'X16', 'X17', 'X18', 'X19',\n",
       "       'X20', 'X21', 'X22', 'X23', 'Y'],\n",
       "      dtype='object')"
      ]
     },
     "execution_count": 7,
     "metadata": {},
     "output_type": "execute_result"
    }
   ],
   "source": [
    "#Get column names\n",
    "df.columns"
   ]
  },
  {
   "cell_type": "code",
   "execution_count": 8,
   "metadata": {
    "id": "WzusfzdYUfaF"
   },
   "outputs": [],
   "source": [
    "#Rename Column  names\n",
    "df.rename(columns={'X1': 'LIMIT_BAL', 'Unnamed: 0': 'ID', 'X2' : 'SEX', 'X3' : 'EDUCATION', 'X4' : 'MARRIAGE', 'X5' : 'AGE'}, inplace=True)"
   ]
  },
  {
   "cell_type": "code",
   "execution_count": 9,
   "metadata": {
    "id": "qWGs0TWiUf1a"
   },
   "outputs": [],
   "source": [
    "column_names = {\n",
    "    'history_names': {\n",
    "        'X6':'Sep_Hist','X11':'Apr_Hist','X7':'Aug_Hist',\n",
    "        'X8':'Jul_Hist','X9':'Jun_Hist','X10':'May_Hist'\n",
    "    },\n",
    "    'balance_names': {\n",
    "        'X12':'Sep_Bal','X13':'Aug_Bal','X14':'Jul_Bal',\n",
    "        'X15':'Jun_Bal','X16':'May_Bal','X17':'Apr_Bal'\n",
    "    },\n",
    "    'payment_names': {\n",
    "        'X18':'Sep_Pmt','X19':'Aug_Pmt','X20':'Jul_Pmt',\n",
    "        'X21':'Jun_Pmt','X22':'May_Pmt','X23':'Apr_Pmt'\n",
    "    }\n",
    "}\n",
    "\n",
    "for column_name in column_names:\n",
    "    df.rename(columns=column_names[column_name], inplace=True)\n"
   ]
  },
  {
   "cell_type": "code",
   "execution_count": 10,
   "metadata": {
    "id": "4FegrcZIUgCs"
   },
   "outputs": [],
   "source": [
    "df.rename(columns={'Y': 'DEF_PAY'}, inplace=True)"
   ]
  },
  {
   "cell_type": "code",
   "execution_count": 11,
   "metadata": {
    "id": "VHhOzx4uUgQR"
   },
   "outputs": [],
   "source": [
    "df = df.drop([0])"
   ]
  },
  {
   "cell_type": "code",
   "execution_count": 12,
   "metadata": {
    "colab": {
     "base_uri": "https://localhost:8080/"
    },
    "id": "zar1IvEzUgFk",
    "outputId": "6b1cc2bb-d0fe-47dd-dc90-56e51f797ed0"
   },
   "outputs": [
    {
     "data": {
      "text/plain": [
       "Index(['ID', 'LIMIT_BAL', 'SEX', 'EDUCATION', 'MARRIAGE', 'AGE', 'Sep_Hist',\n",
       "       'Aug_Hist', 'Jul_Hist', 'Jun_Hist', 'May_Hist', 'Apr_Hist', 'Sep_Bal',\n",
       "       'Aug_Bal', 'Jul_Bal', 'Jun_Bal', 'May_Bal', 'Apr_Bal', 'Sep_Pmt',\n",
       "       'Aug_Pmt', 'Jul_Pmt', 'Jun_Pmt', 'May_Pmt', 'Apr_Pmt', 'DEF_PAY'],\n",
       "      dtype='object')"
      ]
     },
     "execution_count": 12,
     "metadata": {},
     "output_type": "execute_result"
    }
   ],
   "source": [
    "df.columns"
   ]
  },
  {
   "cell_type": "markdown",
   "metadata": {
    "id": "s-ihHJH-Wv-Y"
   },
   "source": [
    "# **Data Exploration**"
   ]
  },
  {
   "cell_type": "code",
   "execution_count": 13,
   "metadata": {
    "colab": {
     "base_uri": "https://localhost:8080/"
    },
    "id": "JC6AryCWUgY4",
    "outputId": "67623247-291e-46de-b935-2a0e0da4dd13"
   },
   "outputs": [
    {
     "data": {
      "text/plain": [
       "(30000, 25)"
      ]
     },
     "execution_count": 13,
     "metadata": {},
     "output_type": "execute_result"
    }
   ],
   "source": [
    "df.shape"
   ]
  },
  {
   "cell_type": "code",
   "execution_count": 14,
   "metadata": {
    "colab": {
     "base_uri": "https://localhost:8080/"
    },
    "id": "X20ECBzvUga6",
    "outputId": "0e42d69c-750b-4e2e-be69-c51826a2580b"
   },
   "outputs": [
    {
     "data": {
      "text/plain": [
       "ID           0\n",
       "LIMIT_BAL    0\n",
       "SEX          0\n",
       "EDUCATION    0\n",
       "MARRIAGE     0\n",
       "AGE          0\n",
       "Sep_Hist     0\n",
       "Aug_Hist     0\n",
       "Jul_Hist     0\n",
       "Jun_Hist     0\n",
       "May_Hist     0\n",
       "Apr_Hist     0\n",
       "Sep_Bal      0\n",
       "Aug_Bal      0\n",
       "Jul_Bal      0\n",
       "Jun_Bal      0\n",
       "May_Bal      0\n",
       "Apr_Bal      0\n",
       "Sep_Pmt      0\n",
       "Aug_Pmt      0\n",
       "Jul_Pmt      0\n",
       "Jun_Pmt      0\n",
       "May_Pmt      0\n",
       "Apr_Pmt      0\n",
       "DEF_PAY      0\n",
       "dtype: int64"
      ]
     },
     "execution_count": 14,
     "metadata": {},
     "output_type": "execute_result"
    }
   ],
   "source": [
    "df.isnull().sum() "
   ]
  },
  {
   "cell_type": "code",
   "execution_count": 15,
   "metadata": {
    "colab": {
     "base_uri": "https://localhost:8080/"
    },
    "id": "aryyFH4aUgdQ",
    "outputId": "10b30361-20c4-4941-8497-1b9646a7d363"
   },
   "outputs": [
    {
     "data": {
      "text/plain": [
       "ID           object\n",
       "LIMIT_BAL    object\n",
       "SEX          object\n",
       "EDUCATION    object\n",
       "MARRIAGE     object\n",
       "AGE          object\n",
       "Sep_Hist     object\n",
       "Aug_Hist     object\n",
       "Jul_Hist     object\n",
       "Jun_Hist     object\n",
       "May_Hist     object\n",
       "Apr_Hist     object\n",
       "Sep_Bal      object\n",
       "Aug_Bal      object\n",
       "Jul_Bal      object\n",
       "Jun_Bal      object\n",
       "May_Bal      object\n",
       "Apr_Bal      object\n",
       "Sep_Pmt      object\n",
       "Aug_Pmt      object\n",
       "Jul_Pmt      object\n",
       "Jun_Pmt      object\n",
       "May_Pmt      object\n",
       "Apr_Pmt      object\n",
       "DEF_PAY      object\n",
       "dtype: object"
      ]
     },
     "execution_count": 15,
     "metadata": {},
     "output_type": "execute_result"
    }
   ],
   "source": [
    "df.dtypes "
   ]
  },
  {
   "cell_type": "code",
   "execution_count": 16,
   "metadata": {
    "colab": {
     "base_uri": "https://localhost:8080/"
    },
    "id": "fhUeWT-vXW84",
    "outputId": "cd0bfd57-612a-493f-bad4-1b0de5fdee98"
   },
   "outputs": [
    {
     "data": {
      "text/plain": [
       "ID           int64\n",
       "LIMIT_BAL    int64\n",
       "SEX          int64\n",
       "EDUCATION    int64\n",
       "MARRIAGE     int64\n",
       "AGE          int64\n",
       "Sep_Hist     int64\n",
       "Aug_Hist     int64\n",
       "Jul_Hist     int64\n",
       "Jun_Hist     int64\n",
       "May_Hist     int64\n",
       "Apr_Hist     int64\n",
       "Sep_Bal      int64\n",
       "Aug_Bal      int64\n",
       "Jul_Bal      int64\n",
       "Jun_Bal      int64\n",
       "May_Bal      int64\n",
       "Apr_Bal      int64\n",
       "Sep_Pmt      int64\n",
       "Aug_Pmt      int64\n",
       "Jul_Pmt      int64\n",
       "Jun_Pmt      int64\n",
       "May_Pmt      int64\n",
       "Apr_Pmt      int64\n",
       "DEF_PAY      int64\n",
       "dtype: object"
      ]
     },
     "execution_count": 16,
     "metadata": {},
     "output_type": "execute_result"
    }
   ],
   "source": [
    "col = df.columns\n",
    "for i in col:\n",
    "  df[i] = df[i].astype(int)\n",
    "\n",
    "df.dtypes"
   ]
  },
  {
   "cell_type": "code",
   "execution_count": 17,
   "metadata": {
    "colab": {
     "base_uri": "https://localhost:8080/"
    },
    "id": "6xM15aGGUge0",
    "outputId": "7f6b5039-9fc9-4674-e70d-d42db01a4800"
   },
   "outputs": [
    {
     "data": {
      "text/plain": [
       "Index(['ID', 'LIMIT_BAL', 'SEX', 'EDUCATION', 'MARRIAGE', 'AGE', 'Sep_Hist',\n",
       "       'Aug_Hist', 'Jul_Hist', 'Jun_Hist', 'May_Hist', 'Apr_Hist', 'Sep_Bal',\n",
       "       'Aug_Bal', 'Jul_Bal', 'Jun_Bal', 'May_Bal', 'Apr_Bal', 'Sep_Pmt',\n",
       "       'Aug_Pmt', 'Jul_Pmt', 'Jun_Pmt', 'May_Pmt', 'Apr_Pmt', 'DEF_PAY'],\n",
       "      dtype='object')"
      ]
     },
     "execution_count": 17,
     "metadata": {},
     "output_type": "execute_result"
    }
   ],
   "source": [
    "col = df.columns\n",
    "col"
   ]
  },
  {
   "cell_type": "code",
   "execution_count": 18,
   "metadata": {
    "colab": {
     "base_uri": "https://localhost:8080/"
    },
    "id": "cmbavKCVUggq",
    "outputId": "570c1e5f-6fbe-4f81-b2be-95765f406062"
   },
   "outputs": [
    {
     "data": {
      "text/plain": [
       "0    23364\n",
       "1     6636\n",
       "Name: DEF_PAY, dtype: int64"
      ]
     },
     "execution_count": 18,
     "metadata": {},
     "output_type": "execute_result"
    }
   ],
   "source": [
    "df['DEF_PAY'].value_counts()"
   ]
  },
  {
   "cell_type": "code",
   "execution_count": 19,
   "metadata": {
    "colab": {
     "base_uri": "https://localhost:8080/",
     "height": 299
    },
    "id": "c_pA8lAkUgi5",
    "outputId": "810c45a7-eb68-40a9-c475-93d1c1f74df9"
   },
   "outputs": [
    {
     "data": {
      "text/html": [
       "\n",
       "  <div id=\"df-16df2e44-6d1a-4119-b6c1-edec529b6728\">\n",
       "    <div class=\"colab-df-container\">\n",
       "      <div>\n",
       "<style scoped>\n",
       "    .dataframe tbody tr th:only-of-type {\n",
       "        vertical-align: middle;\n",
       "    }\n",
       "\n",
       "    .dataframe tbody tr th {\n",
       "        vertical-align: top;\n",
       "    }\n",
       "\n",
       "    .dataframe thead th {\n",
       "        text-align: right;\n",
       "    }\n",
       "</style>\n",
       "<table border=\"1\" class=\"dataframe\">\n",
       "  <thead>\n",
       "    <tr style=\"text-align: right;\">\n",
       "      <th></th>\n",
       "      <th>ID</th>\n",
       "      <th>LIMIT_BAL</th>\n",
       "      <th>SEX</th>\n",
       "      <th>EDUCATION</th>\n",
       "      <th>MARRIAGE</th>\n",
       "      <th>AGE</th>\n",
       "      <th>Sep_Hist</th>\n",
       "      <th>Aug_Hist</th>\n",
       "      <th>Jul_Hist</th>\n",
       "      <th>Jun_Hist</th>\n",
       "      <th>...</th>\n",
       "      <th>Jun_Bal</th>\n",
       "      <th>May_Bal</th>\n",
       "      <th>Apr_Bal</th>\n",
       "      <th>Sep_Pmt</th>\n",
       "      <th>Aug_Pmt</th>\n",
       "      <th>Jul_Pmt</th>\n",
       "      <th>Jun_Pmt</th>\n",
       "      <th>May_Pmt</th>\n",
       "      <th>Apr_Pmt</th>\n",
       "      <th>DEF_PAY</th>\n",
       "    </tr>\n",
       "  </thead>\n",
       "  <tbody>\n",
       "    <tr>\n",
       "      <th>1</th>\n",
       "      <td>1</td>\n",
       "      <td>20000</td>\n",
       "      <td>2</td>\n",
       "      <td>2</td>\n",
       "      <td>1</td>\n",
       "      <td>24</td>\n",
       "      <td>2</td>\n",
       "      <td>2</td>\n",
       "      <td>-1</td>\n",
       "      <td>-1</td>\n",
       "      <td>...</td>\n",
       "      <td>0</td>\n",
       "      <td>0</td>\n",
       "      <td>0</td>\n",
       "      <td>0</td>\n",
       "      <td>689</td>\n",
       "      <td>0</td>\n",
       "      <td>0</td>\n",
       "      <td>0</td>\n",
       "      <td>0</td>\n",
       "      <td>1</td>\n",
       "    </tr>\n",
       "    <tr>\n",
       "      <th>2</th>\n",
       "      <td>2</td>\n",
       "      <td>120000</td>\n",
       "      <td>2</td>\n",
       "      <td>2</td>\n",
       "      <td>2</td>\n",
       "      <td>26</td>\n",
       "      <td>-1</td>\n",
       "      <td>2</td>\n",
       "      <td>0</td>\n",
       "      <td>0</td>\n",
       "      <td>...</td>\n",
       "      <td>3272</td>\n",
       "      <td>3455</td>\n",
       "      <td>3261</td>\n",
       "      <td>0</td>\n",
       "      <td>1000</td>\n",
       "      <td>1000</td>\n",
       "      <td>1000</td>\n",
       "      <td>0</td>\n",
       "      <td>2000</td>\n",
       "      <td>1</td>\n",
       "    </tr>\n",
       "    <tr>\n",
       "      <th>3</th>\n",
       "      <td>3</td>\n",
       "      <td>90000</td>\n",
       "      <td>2</td>\n",
       "      <td>2</td>\n",
       "      <td>2</td>\n",
       "      <td>34</td>\n",
       "      <td>0</td>\n",
       "      <td>0</td>\n",
       "      <td>0</td>\n",
       "      <td>0</td>\n",
       "      <td>...</td>\n",
       "      <td>14331</td>\n",
       "      <td>14948</td>\n",
       "      <td>15549</td>\n",
       "      <td>1518</td>\n",
       "      <td>1500</td>\n",
       "      <td>1000</td>\n",
       "      <td>1000</td>\n",
       "      <td>1000</td>\n",
       "      <td>5000</td>\n",
       "      <td>0</td>\n",
       "    </tr>\n",
       "    <tr>\n",
       "      <th>4</th>\n",
       "      <td>4</td>\n",
       "      <td>50000</td>\n",
       "      <td>2</td>\n",
       "      <td>2</td>\n",
       "      <td>1</td>\n",
       "      <td>37</td>\n",
       "      <td>0</td>\n",
       "      <td>0</td>\n",
       "      <td>0</td>\n",
       "      <td>0</td>\n",
       "      <td>...</td>\n",
       "      <td>28314</td>\n",
       "      <td>28959</td>\n",
       "      <td>29547</td>\n",
       "      <td>2000</td>\n",
       "      <td>2019</td>\n",
       "      <td>1200</td>\n",
       "      <td>1100</td>\n",
       "      <td>1069</td>\n",
       "      <td>1000</td>\n",
       "      <td>0</td>\n",
       "    </tr>\n",
       "    <tr>\n",
       "      <th>5</th>\n",
       "      <td>5</td>\n",
       "      <td>50000</td>\n",
       "      <td>1</td>\n",
       "      <td>2</td>\n",
       "      <td>1</td>\n",
       "      <td>57</td>\n",
       "      <td>-1</td>\n",
       "      <td>0</td>\n",
       "      <td>-1</td>\n",
       "      <td>0</td>\n",
       "      <td>...</td>\n",
       "      <td>20940</td>\n",
       "      <td>19146</td>\n",
       "      <td>19131</td>\n",
       "      <td>2000</td>\n",
       "      <td>36681</td>\n",
       "      <td>10000</td>\n",
       "      <td>9000</td>\n",
       "      <td>689</td>\n",
       "      <td>679</td>\n",
       "      <td>0</td>\n",
       "    </tr>\n",
       "  </tbody>\n",
       "</table>\n",
       "<p>5 rows × 25 columns</p>\n",
       "</div>\n",
       "      <button class=\"colab-df-convert\" onclick=\"convertToInteractive('df-16df2e44-6d1a-4119-b6c1-edec529b6728')\"\n",
       "              title=\"Convert this dataframe to an interactive table.\"\n",
       "              style=\"display:none;\">\n",
       "        \n",
       "  <svg xmlns=\"http://www.w3.org/2000/svg\" height=\"24px\"viewBox=\"0 0 24 24\"\n",
       "       width=\"24px\">\n",
       "    <path d=\"M0 0h24v24H0V0z\" fill=\"none\"/>\n",
       "    <path d=\"M18.56 5.44l.94 2.06.94-2.06 2.06-.94-2.06-.94-.94-2.06-.94 2.06-2.06.94zm-11 1L8.5 8.5l.94-2.06 2.06-.94-2.06-.94L8.5 2.5l-.94 2.06-2.06.94zm10 10l.94 2.06.94-2.06 2.06-.94-2.06-.94-.94-2.06-.94 2.06-2.06.94z\"/><path d=\"M17.41 7.96l-1.37-1.37c-.4-.4-.92-.59-1.43-.59-.52 0-1.04.2-1.43.59L10.3 9.45l-7.72 7.72c-.78.78-.78 2.05 0 2.83L4 21.41c.39.39.9.59 1.41.59.51 0 1.02-.2 1.41-.59l7.78-7.78 2.81-2.81c.8-.78.8-2.07 0-2.86zM5.41 20L4 18.59l7.72-7.72 1.47 1.35L5.41 20z\"/>\n",
       "  </svg>\n",
       "      </button>\n",
       "      \n",
       "  <style>\n",
       "    .colab-df-container {\n",
       "      display:flex;\n",
       "      flex-wrap:wrap;\n",
       "      gap: 12px;\n",
       "    }\n",
       "\n",
       "    .colab-df-convert {\n",
       "      background-color: #E8F0FE;\n",
       "      border: none;\n",
       "      border-radius: 50%;\n",
       "      cursor: pointer;\n",
       "      display: none;\n",
       "      fill: #1967D2;\n",
       "      height: 32px;\n",
       "      padding: 0 0 0 0;\n",
       "      width: 32px;\n",
       "    }\n",
       "\n",
       "    .colab-df-convert:hover {\n",
       "      background-color: #E2EBFA;\n",
       "      box-shadow: 0px 1px 2px rgba(60, 64, 67, 0.3), 0px 1px 3px 1px rgba(60, 64, 67, 0.15);\n",
       "      fill: #174EA6;\n",
       "    }\n",
       "\n",
       "    [theme=dark] .colab-df-convert {\n",
       "      background-color: #3B4455;\n",
       "      fill: #D2E3FC;\n",
       "    }\n",
       "\n",
       "    [theme=dark] .colab-df-convert:hover {\n",
       "      background-color: #434B5C;\n",
       "      box-shadow: 0px 1px 3px 1px rgba(0, 0, 0, 0.15);\n",
       "      filter: drop-shadow(0px 1px 2px rgba(0, 0, 0, 0.3));\n",
       "      fill: #FFFFFF;\n",
       "    }\n",
       "  </style>\n",
       "\n",
       "      <script>\n",
       "        const buttonEl =\n",
       "          document.querySelector('#df-16df2e44-6d1a-4119-b6c1-edec529b6728 button.colab-df-convert');\n",
       "        buttonEl.style.display =\n",
       "          google.colab.kernel.accessAllowed ? 'block' : 'none';\n",
       "\n",
       "        async function convertToInteractive(key) {\n",
       "          const element = document.querySelector('#df-16df2e44-6d1a-4119-b6c1-edec529b6728');\n",
       "          const dataTable =\n",
       "            await google.colab.kernel.invokeFunction('convertToInteractive',\n",
       "                                                     [key], {});\n",
       "          if (!dataTable) return;\n",
       "\n",
       "          const docLinkHtml = 'Like what you see? Visit the ' +\n",
       "            '<a target=\"_blank\" href=https://colab.research.google.com/notebooks/data_table.ipynb>data table notebook</a>'\n",
       "            + ' to learn more about interactive tables.';\n",
       "          element.innerHTML = '';\n",
       "          dataTable['output_type'] = 'display_data';\n",
       "          await google.colab.output.renderOutput(dataTable, element);\n",
       "          const docLink = document.createElement('div');\n",
       "          docLink.innerHTML = docLinkHtml;\n",
       "          element.appendChild(docLink);\n",
       "        }\n",
       "      </script>\n",
       "    </div>\n",
       "  </div>\n",
       "  "
      ],
      "text/plain": [
       "   ID  LIMIT_BAL  SEX  EDUCATION  MARRIAGE  AGE  Sep_Hist  Aug_Hist  Jul_Hist  \\\n",
       "1   1      20000    2          2         1   24         2         2        -1   \n",
       "2   2     120000    2          2         2   26        -1         2         0   \n",
       "3   3      90000    2          2         2   34         0         0         0   \n",
       "4   4      50000    2          2         1   37         0         0         0   \n",
       "5   5      50000    1          2         1   57        -1         0        -1   \n",
       "\n",
       "   Jun_Hist  ...  Jun_Bal  May_Bal  Apr_Bal  Sep_Pmt  Aug_Pmt  Jul_Pmt  \\\n",
       "1        -1  ...        0        0        0        0      689        0   \n",
       "2         0  ...     3272     3455     3261        0     1000     1000   \n",
       "3         0  ...    14331    14948    15549     1518     1500     1000   \n",
       "4         0  ...    28314    28959    29547     2000     2019     1200   \n",
       "5         0  ...    20940    19146    19131     2000    36681    10000   \n",
       "\n",
       "   Jun_Pmt  May_Pmt  Apr_Pmt  DEF_PAY  \n",
       "1        0        0        0        1  \n",
       "2     1000        0     2000        1  \n",
       "3     1000     1000     5000        0  \n",
       "4     1100     1069     1000        0  \n",
       "5     9000      689      679        0  \n",
       "\n",
       "[5 rows x 25 columns]"
      ]
     },
     "execution_count": 19,
     "metadata": {},
     "output_type": "execute_result"
    }
   ],
   "source": [
    "df.head()"
   ]
  },
  {
   "cell_type": "code",
   "execution_count": 20,
   "metadata": {
    "colab": {
     "base_uri": "https://localhost:8080/",
     "height": 765
    },
    "id": "HUvypIXUUgp0",
    "outputId": "a750c64b-dd8d-4442-98d7-187e573565f2"
   },
   "outputs": [
    {
     "data": {
      "image/png": "[encoded data removed]",
      "text/plain": [
       "<Figure size 1440x864 with 2 Axes>"
      ]
     },
     "metadata": {
      "needs_background": "light"
     },
     "output_type": "display_data"
    }
   ],
   "source": [
    "# Correlation plot \n",
    "fig, ax = plt.subplots(figsize=(20, 12))\n",
    "dfcorr=df.corr()\n",
    "sns.heatmap(dfcorr, annot=True).set(title=\"Credit card data\");"
   ]
  },
  {
   "cell_type": "code",
   "execution_count": 21,
   "metadata": {
    "colab": {
     "base_uri": "https://localhost:8080/"
    },
    "id": "vFNKHVrdUgsI",
    "outputId": "41b32ea1-e028-4031-fe29-1c6c0807c0f4"
   },
   "outputs": [
    {
     "data": {
      "text/plain": [
       "ID          -0.013952\n",
       "LIMIT_BAL   -0.153520\n",
       "SEX         -0.039961\n",
       "EDUCATION    0.028006\n",
       "MARRIAGE    -0.024339\n",
       "AGE          0.013890\n",
       "Sep_Hist     0.324794\n",
       "Aug_Hist     0.263551\n",
       "Jul_Hist     0.235253\n",
       "Jun_Hist     0.216614\n",
       "May_Hist     0.204149\n",
       "Apr_Hist     0.186866\n",
       "Sep_Bal     -0.019644\n",
       "Aug_Bal     -0.014193\n",
       "Jul_Bal     -0.014076\n",
       "Jun_Bal     -0.010156\n",
       "May_Bal     -0.006760\n",
       "Apr_Bal     -0.005372\n",
       "Sep_Pmt     -0.072929\n",
       "Aug_Pmt     -0.058579\n",
       "Jul_Pmt     -0.056250\n",
       "Jun_Pmt     -0.056827\n",
       "May_Pmt     -0.055124\n",
       "Apr_Pmt     -0.053183\n",
       "DEF_PAY      1.000000\n",
       "Name: DEF_PAY, dtype: float64"
      ]
     },
     "execution_count": 21,
     "metadata": {},
     "output_type": "execute_result"
    }
   ],
   "source": [
    "df.corr()['DEF_PAY']"
   ]
  },
  {
   "cell_type": "markdown",
   "metadata": {
    "id": "PhibCsWcjCDM"
   },
   "source": [
    "Default Data Distribution"
   ]
  },
  {
   "cell_type": "code",
   "execution_count": 22,
   "metadata": {
    "colab": {
     "base_uri": "https://localhost:8080/"
    },
    "id": "ubVZ0Gbfh0IT",
    "outputId": "d18bbee4-a570-4980-8f1c-4bd9370d77ba"
   },
   "outputs": [
    {
     "name": "stdout",
     "output_type": "stream",
     "text": [
      "ID 1 30000\n",
      "LIMIT_BAL 10000 1000000\n",
      "SEX 1 2\n",
      "EDUCATION 0 6\n",
      "MARRIAGE 0 3\n",
      "AGE 21 79\n",
      "Sep_Hist -2 8\n",
      "Aug_Hist -2 8\n",
      "Jul_Hist -2 8\n",
      "Jun_Hist -2 8\n",
      "May_Hist -2 8\n",
      "Apr_Hist -2 8\n",
      "Sep_Bal -165580 964511\n",
      "Aug_Bal -69777 983931\n",
      "Jul_Bal -157264 1664089\n",
      "Jun_Bal -170000 891586\n",
      "May_Bal -81334 927171\n",
      "Apr_Bal -339603 961664\n",
      "Sep_Pmt 0 873552\n",
      "Aug_Pmt 0 1684259\n",
      "Jul_Pmt 0 896040\n",
      "Jun_Pmt 0 621000\n",
      "May_Pmt 0 426529\n",
      "Apr_Pmt 0 528666\n",
      "DEF_PAY 0 1\n"
     ]
    }
   ],
   "source": [
    "for i in col:\n",
    "  print (i,df[i].min(), df[i].max())"
   ]
  },
  {
   "cell_type": "code",
   "execution_count": 23,
   "metadata": {
    "colab": {
     "base_uri": "https://localhost:8080/"
    },
    "id": "Irs5f3hFh0N5",
    "outputId": "5f51f130-5a07-4ce8-805c-c7537a9ec720"
   },
   "outputs": [
    {
     "name": "stdout",
     "output_type": "stream",
     "text": [
      "SEX[1, 2]\n",
      "EDUCATION[0, 1, 2, 3, 4, 5, 6]\n",
      "MARRIAGE[0, 1, 2, 3]\n",
      "Sep_Hist[-2, -1, 0, 1, 2, 3, 4, 5, 6, 7, 8]\n",
      "DEF_PAY[0, 1]\n"
     ]
    }
   ],
   "source": [
    "print('SEX' + str(sorted(df['SEX'].unique())))\n",
    "print('EDUCATION' + str(sorted(df['EDUCATION'].unique())))\n",
    "print('MARRIAGE' + str(sorted(df['MARRIAGE'].unique())))\n",
    "print('Sep_Hist' + str(sorted(df['Sep_Hist'].unique())))\n",
    "print('DEF_PAY' + str(sorted(df['DEF_PAY'].unique())))"
   ]
  },
  {
   "cell_type": "code",
   "execution_count": 24,
   "metadata": {
    "id": "Vf3xiD5Oh0Uz"
   },
   "outputs": [],
   "source": [
    "# Some categories are undocumented\n",
    "\n",
    "# The 0, 5 and 6 in EDUCATION can be categorized as 'Other' (4)\n",
    "fill = (df['EDUCATION']==0) | (df['EDUCATION']==5) | (df['EDUCATION']==6)\n",
    "df.loc[fill, 'EDUCATION']=4\n",
    "\n",
    "# The 0 in MARRIAGE can be categorized as 'Other' (3)\n",
    "df.loc[df['MARRIAGE']==0, 'MARRIAGE']=3\n",
    "\n",
    "# The -2, -1 and 0 in PAY_n can be categorized as 'duly' (0)\n",
    "fill = (df['Sep_Hist']==-2) | (df['Sep_Hist']==-1) | (df['Sep_Hist']==0)\n",
    "df.loc[fill, 'Sep_Hist']=0\n",
    "\n",
    "fill = (df['Aug_Hist']==-2) | (df['Aug_Hist']==-1) | (df['Aug_Hist']==0)\n",
    "df.loc[fill, 'Aug_Hist']=0\n",
    "\n",
    "fill = (df['Jul_Hist']==-2) | (df['Jul_Hist']==-1) | (df['Jul_Hist']==0)\n",
    "df.loc[fill, 'Jul_Hist']=0\n",
    "\n",
    "fill = (df['Jun_Hist']==-2) | (df['Jun_Hist']==-1) | (df['Jun_Hist']==0)\n",
    "df.loc[fill, 'Jun_Hist']=0\n",
    "\n",
    "fill = (df['May_Hist']==-2) | (df['May_Hist']==-1) | (df['May_Hist']==0)\n",
    "df.loc[fill, 'May_Hist']=0\n",
    "\n",
    "fill = (df['Apr_Hist']==-2) | (df['Apr_Hist']==-1) | (df['Apr_Hist']==0)\n",
    "df.loc[fill, 'Apr_Hist']=0"
   ]
  },
  {
   "cell_type": "code",
   "execution_count": 25,
   "metadata": {
    "colab": {
     "base_uri": "https://localhost:8080/"
    },
    "id": "zj4iWo9BkK3s",
    "outputId": "9fb8e653-ddb6-4387-89ba-0b3684d9c475"
   },
   "outputs": [
    {
     "name": "stdout",
     "output_type": "stream",
     "text": [
      "SEX[1, 2]\n",
      "EDUCATION[1, 2, 3, 4]\n",
      "MARRIAGE[1, 2, 3]\n",
      "Sep_Hist[0, 1, 2, 3, 4, 5, 6, 7, 8]\n",
      "DEF_PAY[0, 1]\n"
     ]
    }
   ],
   "source": [
    "print('SEX' + str(sorted(df['SEX'].unique())))\n",
    "print('EDUCATION' + str(sorted(df['EDUCATION'].unique())))\n",
    "print('MARRIAGE' + str(sorted(df['MARRIAGE'].unique())))\n",
    "print('Sep_Hist' + str(sorted(df['Sep_Hist'].unique())))\n",
    "print('DEF_PAY' + str(sorted(df['DEF_PAY'].unique())))"
   ]
  },
  {
   "cell_type": "code",
   "execution_count": 26,
   "metadata": {
    "colab": {
     "base_uri": "https://localhost:8080/",
     "height": 344
    },
    "id": "PU4Zsp9-hut8",
    "outputId": "72079a25-e464-4f0f-e958-74f0c1aa7c33"
   },
   "outputs": [
    {
     "data": {
      "image/png": "[encoded data removed]",
      "text/plain": [
       "<Figure size 792x360 with 1 Axes>"
      ]
     },
     "metadata": {
      "needs_background": "light"
     },
     "output_type": "display_data"
    }
   ],
   "source": [
    "plt.figure(figsize=(11,5))\n",
    "sns.set_style('white')\n",
    "ax = sns.countplot(data=df, x='DEF_PAY', palette='Blues')\n",
    "\n",
    "ax.set_xlabel('Default payment', fontsize=12)\n",
    "for p in ax.patches:\n",
    "    ax.annotate(f'\\n{p.get_height()}', (p.get_x()+0.4, p.get_height()), ha='center', va='top', color='black', size=12)\n",
    "\n",
    "plt.ylim(0,25000)\n",
    "plt.annotate('More than 6,636 out of 30,000 of \\nclients will default next month.', xy=(0.595, 15000), fontsize=13)\n",
    "plt.xticks([0,1],['Not default', 'Default'], fontsize=13); plt.ylabel('Number of clients', fontsize=12)\n",
    "plt.show()"
   ]
  },
  {
   "cell_type": "code",
   "execution_count": 27,
   "metadata": {
    "colab": {
     "base_uri": "https://localhost:8080/",
     "height": 303
    },
    "id": "eYbq-lwShurD",
    "outputId": "98edefbb-b256-4d75-cc6c-31e75061da16"
   },
   "outputs": [
    {
     "data": {
      "image/png": "[encoded data removed]",
      "text/plain": [
       "<Figure size 360x360 with 1 Axes>"
      ]
     },
     "metadata": {},
     "output_type": "display_data"
    }
   ],
   "source": [
    "plt.figure(figsize=(5,5))\n",
    "\n",
    "df['DEF_PAY'].value_counts().plot(kind='pie', labels=['',''], \n",
    "                                        autopct='%1.1f%%', colors=['#B3CEDE','#4884AF'], \n",
    "                                        explode=[0,0.06], textprops={\"fontsize\":12})\n",
    "\n",
    "plt.ylabel(' ')\n",
    "plt.legend(labels=['Not default','Default'])\n",
    "plt.show()\n"
   ]
  },
  {
   "cell_type": "markdown",
   "metadata": {
    "id": "kBHpxNmPjUNf"
   },
   "source": [
    "Default Data Distribution by Sex"
   ]
  },
  {
   "cell_type": "code",
   "execution_count": 28,
   "metadata": {
    "colab": {
     "base_uri": "https://localhost:8080/"
    },
    "id": "r2rl-ajQhuVm",
    "outputId": "9d6154c1-38ec-4704-f610-2575dd74fe14"
   },
   "outputs": [
    {
     "data": {
      "text/plain": [
       "SEX  DEF_PAY\n",
       "1    0          0.758328\n",
       "     1          0.241672\n",
       "2    0          0.792237\n",
       "     1          0.207763\n",
       "Name: DEF_PAY, dtype: float64"
      ]
     },
     "execution_count": 28,
     "metadata": {},
     "output_type": "execute_result"
    }
   ],
   "source": [
    "df['DEF_PAY'].groupby(df['SEX']).value_counts(normalize=True) "
   ]
  },
  {
   "cell_type": "code",
   "execution_count": 29,
   "metadata": {
    "id": "dVr2MgIohuS1"
   },
   "outputs": [],
   "source": [
    "colors = ['#B3CEDE', '#4884AF']\n",
    "clientes = ['Not default', 'Default']\n",
    "counter = df['DEF_PAY'].groupby(df['SEX']).value_counts().unstack()\n",
    "p_dist = 100 * counter.divide(counter.sum(axis = 1), axis=0)"
   ]
  },
  {
   "cell_type": "code",
   "execution_count": 30,
   "metadata": {
    "colab": {
     "base_uri": "https://localhost:8080/",
     "height": 285
    },
    "id": "qL5X-IGdhuQf",
    "outputId": "34cd4c74-ee97-4c4b-c90b-d2a9c98aaca6"
   },
   "outputs": [
    {
     "data": {
      "image/png": "[encoded data removed]",
      "text/plain": [
       "<Figure size 648x288 with 1 Axes>"
      ]
     },
     "metadata": {},
     "output_type": "display_data"
    }
   ],
   "source": [
    "sns.set(rc={'figure.figsize':(9,4)})\n",
    "sns.set_style(\"white\")\n",
    "\n",
    "ax = p_dist.plot.bar(stacked=True, color=colors)\n",
    "\n",
    "for p in ax.patches:\n",
    "    width, height = p.get_width(), p.get_height()\n",
    "    x, y = p.get_xy() \n",
    "    ax.text(x+width/2, y+height/2, '{:.0f} %'.format(height), horizontalalignment='center', verticalalignment='center')\n",
    "\n",
    "plt.legend(clientes, loc=(0.398, 0.79), fontsize = 11)   \n",
    "plt.xticks([0,1],['Male','Female'], rotation='horizontal'); plt.ylabel('Number of clients', fontsize = 12)\n",
    "plt.show()"
   ]
  },
  {
   "cell_type": "markdown",
   "metadata": {
    "id": "QZrqBoC8j9hK"
   },
   "source": [
    "Default Data Distribution by Age"
   ]
  },
  {
   "cell_type": "code",
   "execution_count": 31,
   "metadata": {
    "colab": {
     "base_uri": "https://localhost:8080/",
     "height": 285
    },
    "id": "59G9H7E9huON",
    "outputId": "1022e7c3-d74f-4b3b-e257-5d8f3ad9296b"
   },
   "outputs": [
    {
     "data": {
      "image/png": "[encoded data removed]",
      "text/plain": [
       "<Figure size 648x288 with 1 Axes>"
      ]
     },
     "metadata": {},
     "output_type": "display_data"
    }
   ],
   "source": [
    "plt.figure(figsize=(9,4))\n",
    "sns.kdeplot(data=df, x='AGE', hue='DEF_PAY', multiple='stack', palette='Blues')\n",
    "\n",
    "plt.legend(loc='upper right', labels=['Default', 'Not default'])\n",
    "plt.ylabel('Density', fontsize= 12)\n",
    "plt.show()"
   ]
  },
  {
   "cell_type": "markdown",
   "metadata": {
    "id": "GXUoANMeklYv"
   },
   "source": [
    "Default Data Distribution by Education "
   ]
  },
  {
   "cell_type": "code",
   "execution_count": 32,
   "metadata": {
    "colab": {
     "base_uri": "https://localhost:8080/",
     "height": 514
    },
    "id": "uIn7U0b7huLR",
    "outputId": "2d887bba-fbd2-4fd3-f95b-0495866b8532"
   },
   "outputs": [
    {
     "data": {
      "image/png": "[encoded data removed]",
      "text/plain": [
       "<Figure size 720x576 with 1 Axes>"
      ]
     },
     "metadata": {},
     "output_type": "display_data"
    }
   ],
   "source": [
    "plt.figure(figsize=(10,8))\n",
    "sns.set_context('talk', font_scale=0.8)\n",
    "\n",
    "ax = sns.countplot(data=df, x='EDUCATION', hue='DEF_PAY', palette='Blues')\n",
    "for p in ax.patches:\n",
    "    ax.annotate(f'\\n{p.get_height()}', (p.get_x()+0.2, p.get_height()+800), ha='center', va='top', color='black', size=12)\n",
    "\n",
    "plt.ylim(0,12000)\n",
    "plt.xticks([0,1,2,3,4,5,6], ['Grad School', 'University', 'High School', 'Others'], fontsize=12);plt.ylabel('Number of clients', fontsize = 14)\n",
    "plt.legend(labels=['Not default', 'Default'], fontsize=12)\n",
    "plt.show()"
   ]
  },
  {
   "cell_type": "code",
   "execution_count": 33,
   "metadata": {
    "colab": {
     "base_uri": "https://localhost:8080/",
     "height": 296
    },
    "id": "6koFfwuyhuIq",
    "outputId": "246d2b4b-b64e-457c-c84e-84b2c0df08f3"
   },
   "outputs": [
    {
     "data": {
      "image/png": "[encoded data removed]",
      "text/plain": [
       "<Figure size 648x288 with 1 Axes>"
      ]
     },
     "metadata": {},
     "output_type": "display_data"
    }
   ],
   "source": [
    "plt.figure(figsize=(9,4))\n",
    "sns.set_style('white')\n",
    "\n",
    "ax = sns.barplot(x='EDUCATION', y='DEF_PAY', data=df, palette='Blues', ci=None)\n",
    "\n",
    "for p in ax.patches:\n",
    "    ax.annotate('%.2f' %(p.get_height()), (p.get_x()+0.30, p.get_height()+0.01), size=12)\n",
    "\n",
    "plt.ylabel('% of default', fontsize= 12)\n",
    "plt.ylim(0,0.5)\n",
    "plt.xticks([0,1,2,3],['Grad School', 'University', 'High School', 'Others'], fontsize = 12); plt.xlabel('EDUCATION', fontsize = 12)\n",
    "plt.show()"
   ]
  },
  {
   "cell_type": "markdown",
   "metadata": {
    "id": "AHGNa0uMlfj3"
   },
   "source": [
    "Default Data Distribution by Marital Status"
   ]
  },
  {
   "cell_type": "code",
   "execution_count": 34,
   "metadata": {
    "colab": {
     "base_uri": "https://localhost:8080/",
     "height": 508
    },
    "id": "b-zYSFyMhuGi",
    "outputId": "d26f2776-06f3-441c-eb41-97dd1d924af3"
   },
   "outputs": [
    {
     "data": {
      "image/png": "[encoded data removed]",
      "text/plain": [
       "<Figure size 864x576 with 1 Axes>"
      ]
     },
     "metadata": {},
     "output_type": "display_data"
    }
   ],
   "source": [
    "\n",
    "plt.figure(figsize=(12,8))\n",
    "sns.set_style('white')\n",
    "\n",
    "ax = sns.countplot(data=df, y='MARRIAGE', hue='DEF_PAY', palette='Blues')\n",
    "\n",
    "for p in ax.patches:\n",
    "  height = p.get_height()\n",
    "  width = p.get_width()\n",
    "  ax.text(x=width+3,\n",
    "  y = p.get_y()+(height/2),\n",
    "  s = '{:.0f}'.format(width),\n",
    "  va = 'center')\n",
    "\n",
    "plt.xlim(0,15000)\n",
    "plt.ylabel('MARITAL STATUS', fontsize=13)\n",
    "plt.yticks([0,1,2],['Married','Single','Others'], fontsize=12);plt.xlabel('Number of clients', fontsize=13)\n",
    "plt.legend(labels=['Not default', 'Default'])\n",
    "plt.show()\n"
   ]
  },
  {
   "cell_type": "code",
   "execution_count": 35,
   "metadata": {
    "colab": {
     "base_uri": "https://localhost:8080/",
     "height": 296
    },
    "id": "e14a4dllkyeu",
    "outputId": "bb8cbe8d-0b8b-4516-83ca-07094ee9d12b"
   },
   "outputs": [
    {
     "data": {
      "image/png": "[encoded data removed]",
      "text/plain": [
       "<Figure size 648x288 with 1 Axes>"
      ]
     },
     "metadata": {},
     "output_type": "display_data"
    }
   ],
   "source": [
    "plt.figure(figsize=(9,4))\n",
    "sns.set_style('white')\n",
    "\n",
    "ax = sns.barplot(x='MARRIAGE', y='DEF_PAY', data=df, palette='Blues', ci=None)\n",
    "\n",
    "for p in ax.patches:\n",
    "    ax.annotate(\"%.2f\" %(p.get_height()), (p.get_x()+0.30, p.get_height()+0.01), size=12)\n",
    "\n",
    "plt.ylabel('% of default', fontsize= 12)\n",
    "plt.ylim(0,0.5)\n",
    "plt.xticks([0,1,2], ['Married','Single','Others'], fontsize = 12); plt.xlabel('MARITAL STATUS', fontsize=12)\n",
    "plt.show()"
   ]
  },
  {
   "cell_type": "markdown",
   "metadata": {
    "id": "rhM637Gvlpi4"
   },
   "source": [
    "Corelation"
   ]
  },
  {
   "cell_type": "markdown",
   "metadata": {
    "id": "VpDtLN-AYA_v"
   },
   "source": [
    "# **Data Spliting**"
   ]
  },
  {
   "cell_type": "code",
   "execution_count": 36,
   "metadata": {
    "colab": {
     "base_uri": "https://localhost:8080/",
     "height": 299
    },
    "id": "qRLrKXn6Ugt7",
    "outputId": "1d7ed372-2b0f-4172-9e3e-42f546ec9cde"
   },
   "outputs": [
    {
     "data": {
      "text/html": [
       "\n",
       "  <div id=\"df-c78a2a48-40a0-45b2-8dc7-6fd3a4d11a7d\">\n",
       "    <div class=\"colab-df-container\">\n",
       "      <div>\n",
       "<style scoped>\n",
       "    .dataframe tbody tr th:only-of-type {\n",
       "        vertical-align: middle;\n",
       "    }\n",
       "\n",
       "    .dataframe tbody tr th {\n",
       "        vertical-align: top;\n",
       "    }\n",
       "\n",
       "    .dataframe thead th {\n",
       "        text-align: right;\n",
       "    }\n",
       "</style>\n",
       "<table border=\"1\" class=\"dataframe\">\n",
       "  <thead>\n",
       "    <tr style=\"text-align: right;\">\n",
       "      <th></th>\n",
       "      <th>ID</th>\n",
       "      <th>LIMIT_BAL</th>\n",
       "      <th>SEX</th>\n",
       "      <th>EDUCATION</th>\n",
       "      <th>MARRIAGE</th>\n",
       "      <th>AGE</th>\n",
       "      <th>Sep_Hist</th>\n",
       "      <th>Aug_Hist</th>\n",
       "      <th>Jul_Hist</th>\n",
       "      <th>Jun_Hist</th>\n",
       "      <th>...</th>\n",
       "      <th>Jun_Bal</th>\n",
       "      <th>May_Bal</th>\n",
       "      <th>Apr_Bal</th>\n",
       "      <th>Sep_Pmt</th>\n",
       "      <th>Aug_Pmt</th>\n",
       "      <th>Jul_Pmt</th>\n",
       "      <th>Jun_Pmt</th>\n",
       "      <th>May_Pmt</th>\n",
       "      <th>Apr_Pmt</th>\n",
       "      <th>DEF_PAY</th>\n",
       "    </tr>\n",
       "  </thead>\n",
       "  <tbody>\n",
       "    <tr>\n",
       "      <th>1</th>\n",
       "      <td>1</td>\n",
       "      <td>20000</td>\n",
       "      <td>2</td>\n",
       "      <td>2</td>\n",
       "      <td>1</td>\n",
       "      <td>24</td>\n",
       "      <td>2</td>\n",
       "      <td>2</td>\n",
       "      <td>0</td>\n",
       "      <td>0</td>\n",
       "      <td>...</td>\n",
       "      <td>0</td>\n",
       "      <td>0</td>\n",
       "      <td>0</td>\n",
       "      <td>0</td>\n",
       "      <td>689</td>\n",
       "      <td>0</td>\n",
       "      <td>0</td>\n",
       "      <td>0</td>\n",
       "      <td>0</td>\n",
       "      <td>1</td>\n",
       "    </tr>\n",
       "    <tr>\n",
       "      <th>2</th>\n",
       "      <td>2</td>\n",
       "      <td>120000</td>\n",
       "      <td>2</td>\n",
       "      <td>2</td>\n",
       "      <td>2</td>\n",
       "      <td>26</td>\n",
       "      <td>0</td>\n",
       "      <td>2</td>\n",
       "      <td>0</td>\n",
       "      <td>0</td>\n",
       "      <td>...</td>\n",
       "      <td>3272</td>\n",
       "      <td>3455</td>\n",
       "      <td>3261</td>\n",
       "      <td>0</td>\n",
       "      <td>1000</td>\n",
       "      <td>1000</td>\n",
       "      <td>1000</td>\n",
       "      <td>0</td>\n",
       "      <td>2000</td>\n",
       "      <td>1</td>\n",
       "    </tr>\n",
       "    <tr>\n",
       "      <th>3</th>\n",
       "      <td>3</td>\n",
       "      <td>90000</td>\n",
       "      <td>2</td>\n",
       "      <td>2</td>\n",
       "      <td>2</td>\n",
       "      <td>34</td>\n",
       "      <td>0</td>\n",
       "      <td>0</td>\n",
       "      <td>0</td>\n",
       "      <td>0</td>\n",
       "      <td>...</td>\n",
       "      <td>14331</td>\n",
       "      <td>14948</td>\n",
       "      <td>15549</td>\n",
       "      <td>1518</td>\n",
       "      <td>1500</td>\n",
       "      <td>1000</td>\n",
       "      <td>1000</td>\n",
       "      <td>1000</td>\n",
       "      <td>5000</td>\n",
       "      <td>0</td>\n",
       "    </tr>\n",
       "    <tr>\n",
       "      <th>4</th>\n",
       "      <td>4</td>\n",
       "      <td>50000</td>\n",
       "      <td>2</td>\n",
       "      <td>2</td>\n",
       "      <td>1</td>\n",
       "      <td>37</td>\n",
       "      <td>0</td>\n",
       "      <td>0</td>\n",
       "      <td>0</td>\n",
       "      <td>0</td>\n",
       "      <td>...</td>\n",
       "      <td>28314</td>\n",
       "      <td>28959</td>\n",
       "      <td>29547</td>\n",
       "      <td>2000</td>\n",
       "      <td>2019</td>\n",
       "      <td>1200</td>\n",
       "      <td>1100</td>\n",
       "      <td>1069</td>\n",
       "      <td>1000</td>\n",
       "      <td>0</td>\n",
       "    </tr>\n",
       "    <tr>\n",
       "      <th>5</th>\n",
       "      <td>5</td>\n",
       "      <td>50000</td>\n",
       "      <td>1</td>\n",
       "      <td>2</td>\n",
       "      <td>1</td>\n",
       "      <td>57</td>\n",
       "      <td>0</td>\n",
       "      <td>0</td>\n",
       "      <td>0</td>\n",
       "      <td>0</td>\n",
       "      <td>...</td>\n",
       "      <td>20940</td>\n",
       "      <td>19146</td>\n",
       "      <td>19131</td>\n",
       "      <td>2000</td>\n",
       "      <td>36681</td>\n",
       "      <td>10000</td>\n",
       "      <td>9000</td>\n",
       "      <td>689</td>\n",
       "      <td>679</td>\n",
       "      <td>0</td>\n",
       "    </tr>\n",
       "  </tbody>\n",
       "</table>\n",
       "<p>5 rows × 25 columns</p>\n",
       "</div>\n",
       "      <button class=\"colab-df-convert\" onclick=\"convertToInteractive('df-c78a2a48-40a0-45b2-8dc7-6fd3a4d11a7d')\"\n",
       "              title=\"Convert this dataframe to an interactive table.\"\n",
       "              style=\"display:none;\">\n",
       "        \n",
       "  <svg xmlns=\"http://www.w3.org/2000/svg\" height=\"24px\"viewBox=\"0 0 24 24\"\n",
       "       width=\"24px\">\n",
       "    <path d=\"M0 0h24v24H0V0z\" fill=\"none\"/>\n",
       "    <path d=\"M18.56 5.44l.94 2.06.94-2.06 2.06-.94-2.06-.94-.94-2.06-.94 2.06-2.06.94zm-11 1L8.5 8.5l.94-2.06 2.06-.94-2.06-.94L8.5 2.5l-.94 2.06-2.06.94zm10 10l.94 2.06.94-2.06 2.06-.94-2.06-.94-.94-2.06-.94 2.06-2.06.94z\"/><path d=\"M17.41 7.96l-1.37-1.37c-.4-.4-.92-.59-1.43-.59-.52 0-1.04.2-1.43.59L10.3 9.45l-7.72 7.72c-.78.78-.78 2.05 0 2.83L4 21.41c.39.39.9.59 1.41.59.51 0 1.02-.2 1.41-.59l7.78-7.78 2.81-2.81c.8-.78.8-2.07 0-2.86zM5.41 20L4 18.59l7.72-7.72 1.47 1.35L5.41 20z\"/>\n",
       "  </svg>\n",
       "      </button>\n",
       "      \n",
       "  <style>\n",
       "    .colab-df-container {\n",
       "      display:flex;\n",
       "      flex-wrap:wrap;\n",
       "      gap: 12px;\n",
       "    }\n",
       "\n",
       "    .colab-df-convert {\n",
       "      background-color: #E8F0FE;\n",
       "      border: none;\n",
       "      border-radius: 50%;\n",
       "      cursor: pointer;\n",
       "      display: none;\n",
       "      fill: #1967D2;\n",
       "      height: 32px;\n",
       "      padding: 0 0 0 0;\n",
       "      width: 32px;\n",
       "    }\n",
       "\n",
       "    .colab-df-convert:hover {\n",
       "      background-color: #E2EBFA;\n",
       "      box-shadow: 0px 1px 2px rgba(60, 64, 67, 0.3), 0px 1px 3px 1px rgba(60, 64, 67, 0.15);\n",
       "      fill: #174EA6;\n",
       "    }\n",
       "\n",
       "    [theme=dark] .colab-df-convert {\n",
       "      background-color: #3B4455;\n",
       "      fill: #D2E3FC;\n",
       "    }\n",
       "\n",
       "    [theme=dark] .colab-df-convert:hover {\n",
       "      background-color: #434B5C;\n",
       "      box-shadow: 0px 1px 3px 1px rgba(0, 0, 0, 0.15);\n",
       "      filter: drop-shadow(0px 1px 2px rgba(0, 0, 0, 0.3));\n",
       "      fill: #FFFFFF;\n",
       "    }\n",
       "  </style>\n",
       "\n",
       "      <script>\n",
       "        const buttonEl =\n",
       "          document.querySelector('#df-c78a2a48-40a0-45b2-8dc7-6fd3a4d11a7d button.colab-df-convert');\n",
       "        buttonEl.style.display =\n",
       "          google.colab.kernel.accessAllowed ? 'block' : 'none';\n",
       "\n",
       "        async function convertToInteractive(key) {\n",
       "          const element = document.querySelector('#df-c78a2a48-40a0-45b2-8dc7-6fd3a4d11a7d');\n",
       "          const dataTable =\n",
       "            await google.colab.kernel.invokeFunction('convertToInteractive',\n",
       "                                                     [key], {});\n",
       "          if (!dataTable) return;\n",
       "\n",
       "          const docLinkHtml = 'Like what you see? Visit the ' +\n",
       "            '<a target=\"_blank\" href=https://colab.research.google.com/notebooks/data_table.ipynb>data table notebook</a>'\n",
       "            + ' to learn more about interactive tables.';\n",
       "          element.innerHTML = '';\n",
       "          dataTable['output_type'] = 'display_data';\n",
       "          await google.colab.output.renderOutput(dataTable, element);\n",
       "          const docLink = document.createElement('div');\n",
       "          docLink.innerHTML = docLinkHtml;\n",
       "          element.appendChild(docLink);\n",
       "        }\n",
       "      </script>\n",
       "    </div>\n",
       "  </div>\n",
       "  "
      ],
      "text/plain": [
       "   ID  LIMIT_BAL  SEX  EDUCATION  MARRIAGE  AGE  Sep_Hist  Aug_Hist  Jul_Hist  \\\n",
       "1   1      20000    2          2         1   24         2         2         0   \n",
       "2   2     120000    2          2         2   26         0         2         0   \n",
       "3   3      90000    2          2         2   34         0         0         0   \n",
       "4   4      50000    2          2         1   37         0         0         0   \n",
       "5   5      50000    1          2         1   57         0         0         0   \n",
       "\n",
       "   Jun_Hist  ...  Jun_Bal  May_Bal  Apr_Bal  Sep_Pmt  Aug_Pmt  Jul_Pmt  \\\n",
       "1         0  ...        0        0        0        0      689        0   \n",
       "2         0  ...     3272     3455     3261        0     1000     1000   \n",
       "3         0  ...    14331    14948    15549     1518     1500     1000   \n",
       "4         0  ...    28314    28959    29547     2000     2019     1200   \n",
       "5         0  ...    20940    19146    19131     2000    36681    10000   \n",
       "\n",
       "   Jun_Pmt  May_Pmt  Apr_Pmt  DEF_PAY  \n",
       "1        0        0        0        1  \n",
       "2     1000        0     2000        1  \n",
       "3     1000     1000     5000        0  \n",
       "4     1100     1069     1000        0  \n",
       "5     9000      689      679        0  \n",
       "\n",
       "[5 rows x 25 columns]"
      ]
     },
     "execution_count": 36,
     "metadata": {},
     "output_type": "execute_result"
    }
   ],
   "source": [
    "df.head()"
   ]
  },
  {
   "cell_type": "code",
   "execution_count": 37,
   "metadata": {
    "id": "DsiqyUq_UgwC"
   },
   "outputs": [],
   "source": [
    "X = df.iloc[:,:-1]\n",
    "y = df['DEF_PAY']"
   ]
  },
  {
   "cell_type": "code",
   "execution_count": 38,
   "metadata": {
    "id": "4wetvkXsUgxq"
   },
   "outputs": [],
   "source": [
    "#Split the data\n",
    "X_train, X_test, y_train, y_test = train_test_split(X, y , test_size=0.25, random_state=0)"
   ]
  },
  {
   "cell_type": "markdown",
   "metadata": {
    "id": "PCwdbuUDYu7D"
   },
   "source": [
    "# **scaling the data**"
   ]
  },
  {
   "cell_type": "code",
   "execution_count": 39,
   "metadata": {
    "colab": {
     "base_uri": "https://localhost:8080/"
    },
    "id": "elSvbMEVUgzr",
    "outputId": "adc30062-6cf3-43e9-c7c9-041424180804"
   },
   "outputs": [
    {
     "name": "stdout",
     "output_type": "stream",
     "text": [
      "ID 1 30000\n",
      "LIMIT_BAL 10000 1000000\n",
      "SEX 1 2\n",
      "EDUCATION 1 4\n",
      "MARRIAGE 1 3\n",
      "AGE 21 79\n",
      "Sep_Hist 0 8\n",
      "Aug_Hist 0 8\n",
      "Jul_Hist 0 8\n",
      "Jun_Hist 0 8\n",
      "May_Hist 0 8\n",
      "Apr_Hist 0 8\n",
      "Sep_Bal -165580 964511\n",
      "Aug_Bal -69777 983931\n",
      "Jul_Bal -157264 1664089\n",
      "Jun_Bal -170000 891586\n",
      "May_Bal -81334 927171\n",
      "Apr_Bal -339603 961664\n",
      "Sep_Pmt 0 873552\n",
      "Aug_Pmt 0 1684259\n",
      "Jul_Pmt 0 896040\n",
      "Jun_Pmt 0 621000\n",
      "May_Pmt 0 426529\n",
      "Apr_Pmt 0 528666\n",
      "DEF_PAY 0 1\n"
     ]
    }
   ],
   "source": [
    "for i in col:\n",
    "  print (i,df[i].min(), df[i].max())"
   ]
  },
  {
   "cell_type": "code",
   "execution_count": 40,
   "metadata": {
    "colab": {
     "base_uri": "https://localhost:8080/"
    },
    "id": "txapNXHxUg1P",
    "outputId": "d795adad-c6d5-4e8d-982e-c12ecefc0256"
   },
   "outputs": [
    {
     "data": {
      "text/plain": [
       "Index(['ID', 'LIMIT_BAL', 'SEX', 'EDUCATION', 'MARRIAGE', 'AGE', 'Sep_Hist',\n",
       "       'Aug_Hist', 'Jul_Hist', 'Jun_Hist', 'May_Hist', 'Apr_Hist', 'Sep_Bal',\n",
       "       'Aug_Bal', 'Jul_Bal', 'Jun_Bal', 'May_Bal', 'Apr_Bal', 'Sep_Pmt',\n",
       "       'Aug_Pmt', 'Jul_Pmt', 'Jun_Pmt', 'May_Pmt', 'Apr_Pmt'],\n",
       "      dtype='object')"
      ]
     },
     "execution_count": 40,
     "metadata": {},
     "output_type": "execute_result"
    }
   ],
   "source": [
    "col = col[0:-1]\n",
    "col"
   ]
  },
  {
   "cell_type": "code",
   "execution_count": 41,
   "metadata": {
    "id": "ILPI2rofUg3U"
   },
   "outputs": [],
   "source": [
    "# Normalizing input variables of Train data to same scale\n",
    "scalar = StandardScaler()\n",
    "X_train[col] = scalar.fit_transform(X_train[col])"
   ]
  },
  {
   "cell_type": "code",
   "execution_count": 42,
   "metadata": {
    "colab": {
     "base_uri": "https://localhost:8080/"
    },
    "id": "iQKogm9JZKZp",
    "outputId": "bc9a1628-c3bd-436f-87ac-9af8884a4ffc"
   },
   "outputs": [
    {
     "data": {
      "text/plain": [
       "0    23364\n",
       "1     6636\n",
       "Name: DEF_PAY, dtype: int64"
      ]
     },
     "execution_count": 42,
     "metadata": {},
     "output_type": "execute_result"
    }
   ],
   "source": [
    "df['DEF_PAY'].value_counts()"
   ]
  },
  {
   "cell_type": "code",
   "execution_count": 43,
   "metadata": {
    "id": "vta5is3GUg4M"
   },
   "outputs": [],
   "source": [
    "# Applting SMOTE technique to balance the data\n",
    "from imblearn.over_sampling import SMOTE\n",
    "sm = SMOTE(random_state=42)\n",
    "X_train, y_train = sm.fit_resample(X_train, y_train)\n",
    "X_test, y_test = sm.fit_resample(X_test, y_test)"
   ]
  },
  {
   "cell_type": "code",
   "execution_count": 44,
   "metadata": {
    "colab": {
     "base_uri": "https://localhost:8080/"
    },
    "id": "pZ79qToTZa0L",
    "outputId": "dba621f5-271a-485a-8d47-e35522453915"
   },
   "outputs": [
    {
     "data": {
      "text/plain": [
       "0    17496\n",
       "1    17496\n",
       "Name: DEF_PAY, dtype: int64"
      ]
     },
     "execution_count": 44,
     "metadata": {},
     "output_type": "execute_result"
    }
   ],
   "source": [
    "y_train.value_counts()"
   ]
  },
  {
   "cell_type": "code",
   "execution_count": 45,
   "metadata": {
    "colab": {
     "base_uri": "https://localhost:8080/"
    },
    "id": "1OABLM4ZZouS",
    "outputId": "1d023618-378d-431c-968d-8af8e354811e"
   },
   "outputs": [
    {
     "data": {
      "text/plain": [
       "0    5868\n",
       "1    5868\n",
       "Name: DEF_PAY, dtype: int64"
      ]
     },
     "execution_count": 45,
     "metadata": {},
     "output_type": "execute_result"
    }
   ],
   "source": [
    "y_test.value_counts()"
   ]
  },
  {
   "cell_type": "code",
   "execution_count": 46,
   "metadata": {
    "id": "7euLgT94Zowk"
   },
   "outputs": [],
   "source": [
    "# Normalizing input variables of Test data to same scale\n",
    "scalar = StandardScaler()\n",
    "X_test[col] = scalar.fit_transform(X_test[col])\n",
    "\n",
    "#Performing onehot encoding on categorical variables\n",
    "# X_test = pd.get_dummies(X_test, columns = ['destination', 'weather', 'passanger', 'age', 'coupon', 'maritalStatus',\n",
    "#                                 'education', 'occupation', 'income', 'Bar', 'CoffeeHouse', 'CarryAway',\n",
    "#                                 'RestaurantLessThan20', 'Restaurant20To50'])\n"
   ]
  },
  {
   "cell_type": "markdown",
   "metadata": {
    "id": "zAGcTitDZ72g"
   },
   "source": [
    "# **Model Selection and Model Exploration**"
   ]
  },
  {
   "cell_type": "markdown",
   "metadata": {
    "id": "J9zByt2YaBUl"
   },
   "source": [
    "Logistic Regression"
   ]
  },
  {
   "cell_type": "code",
   "execution_count": null,
   "metadata": {
    "id": "ufHQzv-bZozP"
   },
   "outputs": [],
   "source": [
    "# Logistic Regression\n",
    "class LogisticRegression:\n",
    "  def __init__(self, X, y, learningRate, tolerance, maxIteration):\n",
    "      self.X=X\n",
    "      self.y=y\n",
    "      self.learningRate = learningRate\n",
    "      self.tolerance =  tolerance\n",
    "      self.maxIteration = maxIteration\n",
    "  \n",
    "  def addX0(self, X):\n",
    "    return np.column_stack([np.ones(X.shape[0]),X])\n",
    "\n",
    "  def sigmoid(self, z):\n",
    "    sig =  1 / (1 +  np.exp(-z))\n",
    "    return sig\n",
    "\n",
    "  def costFunction(self, X, y):\n",
    "    pred_ = np.log(np.ones(X.shape[0]) + np.exp(X.dot(self.w))) - X.dot(self.w).dot(y)\n",
    "    cost = pred_.sum()\n",
    "    return cost\n",
    "    \n",
    "  def gradient(self, X, y):\n",
    "    sig = self.sigmoid(X.dot(self.w))\n",
    "    grad = (sig - y).dot(X)\n",
    "    return grad\n",
    "  \n",
    "  def gradientDescent(self, X, y):\n",
    "    errors = []\n",
    "    last = float('inf')\n",
    "\n",
    "    for i in tqdm_notebook(range(self.maxIteration)):\n",
    "      self.w = self.w - self.learningRate * self.gradient(X,y)\n",
    "      curr = self.costFunction(X, y)\n",
    "      diff = last - curr\n",
    "      last = curr\n",
    "\n",
    "      errors.append(curr)\n",
    "      if diff < self.tolerance:\n",
    "        print(\"Model Stopped\")\n",
    "        break\n",
    "      \n",
    "    self.plot_cost(errors)\n",
    "    return\n",
    "\n",
    "  def predict(self, X):\n",
    "    sig = self.sigmoid(X.dot(self.w))\n",
    "    return np.around(sig)\n",
    "\n",
    "    \n",
    "  def evaluate(self, y, y_hat):\n",
    "    test_error = []\n",
    "    y = (y == 1)\n",
    "    y_hat = (y_hat == 1)\n",
    "\n",
    "    accuracy = (y==y_hat).sum() / y.size\n",
    "    precision = (y & y_hat).sum() / y_hat.sum()\n",
    "    recall = (y & y_hat).sum() / y.sum()\n",
    "    \n",
    "\n",
    "    fScore = 2* (precision*recall) / (precision+recall)\n",
    "    return fScore, recall, precision, accuracy\n",
    "\n",
    "  def run_model(self, X_test, y_test ):\n",
    "    self.X_train =  self.X\n",
    "    self.y_train = self.y\n",
    "    self.X_test = X_test\n",
    "    self.y_test = y_test\n",
    "    self.w = np.ones(self.X.shape[1], dtype= np.float64) * 0\n",
    "    self.gradientDescent(self.X, self.y)\n",
    "\n",
    "    y_hat_train = self.predict(self.X)\n",
    "    fScore, accuracy, recall, precision = self.evaluate(self.y, y_hat_train)\n",
    "\n",
    "    print(\"Training set Performance\")\n",
    "    print(confusion_matrix(self.y, y_hat_train))\n",
    "    print(\"F1_Score is :\" , fScore)\n",
    "    print(\"Accuracy is :\" , accuracy)\n",
    "    print(\"Precision is :\" , precision)\n",
    "    print(\"Recall is :\" , recall)\n",
    "\n",
    "\n",
    "    y_hat_test = self.predict(self.X_test)\n",
    "    fScore, accuracy, recall, precision = self.evaluate(self.y_test, y_hat_test)\n",
    "\n",
    "    print(\"Test set Performance\")\n",
    "    print(confusion_matrix(self.y_test, y_hat_test))\n",
    "    print(\"F1_Score is :\" , fScore)\n",
    "    print(\"Accuracy is :\" , accuracy)\n",
    "    print(\"Precision is :\" , precision)\n",
    "    print(\"Recall is :\" , recall)\n",
    " \n",
    "  def plot(self):\n",
    "    plt.figure(figsize=(12, 8))\n",
    "    ax = plt.axes(projection='3d')\n",
    "    print(self.X_train[:, 0])\n",
    "    print(self.self.X_train[:, 1])\n",
    "\n",
    "\n",
    "        # Data for three-dimensional scattered points\n",
    "    ax.scatter3D(self.X_train[:, 0], self.X_train[:, 1], self.sigmoid(self.X_train.dot(self.w)),c = self.y_train[:], cmap='viridis', s=100);\n",
    "\n",
    "    ax.set_xlim3d(55, 80)\n",
    "    ax.set_ylim3d(80, 240)\n",
    "    plt.xlabel('$x_1$ feature', fontsize=15)\n",
    "    plt.ylabel('$x_2$ feature', fontsize=15, )\n",
    "    ax.set_zlabel('$P(Y = 1|x_1, x_2)$', fontsize=15, rotation = 0)\n",
    "  \n",
    "  def plot_cost(self, cost_sequence):\n",
    "        # Data for plotting\n",
    "    s = np.array(cost_sequence)\n",
    "    t = np.arange(s.size)\n",
    "\n",
    "    fig, ax = plt.subplots()\n",
    "    ax.plot(t, s)\n",
    "\n",
    "    ax.set(xlabel='iterations', ylabel='cost',\n",
    "                title='cost trend')\n",
    "    ax.grid()\n",
    "\n",
    "    plt.legend(bbox_to_anchor=(1.05,1), loc=2, shadow=True)\n",
    "    plt.show()\n",
    "   "
   ]
  },
  {
   "cell_type": "code",
   "execution_count": null,
   "metadata": {
    "id": "jH_s6Lf9Zo1i"
   },
   "outputs": [],
   "source": [
    "#Run model\n",
    "#lr = [0.000001, 0.00001, 0.0001, 0.001, 0.01]\n",
    "#tol = [0.0000005, 0.000005, 0.00005, 0.0005, 0.005]\n",
    "#for i in lr:\n",
    "  #for j in tol:\n",
    "    #print ('learning rate: ', i, ' tolerance : ', j)\n",
    "\n",
    "    #lr = LogisticRegression(X_train, y_train, learningRate=i, tolerance=j, maxIteration=5000)\n",
    "    #lr.run_model(X_test, y_test)"
   ]
  },
  {
   "cell_type": "code",
   "execution_count": null,
   "metadata": {
    "colab": {
     "base_uri": "https://localhost:8080/",
     "height": 665,
     "referenced_widgets": [
      "a912dc15129f4819a46da9305b026378",
      "9fc216fa30b1485583217faa37275628",
      "c30d0ac45b854435b919b65ffef50a57",
      "fd60ef0bbb7b42ab8b1a91e9a87a97d7",
      "c425a428dd964649bc98cf223c1c4001",
      "c0621ed56dfc4633910f9ac214a73deb",
      "8a9b941ad47343aa86bcc863f7b3c311",
      "3b11f54c9d9645a387a22977c51453ec",
      "f6dd73feca694e11ad23c9b97fa2b49f",
      "7876f53ea20e43cabfabdad04eda5722",
      "5a8b4de2a91f4f96820df97bc40e0aec"
     ]
    },
    "id": "c2FQ0oUjxQA0",
    "outputId": "51263712-09c7-421c-f724-f704f104fd4e"
   },
   "outputs": [
    {
     "name": "stderr",
     "output_type": "stream",
     "text": [
      "/usr/local/lib/python3.7/dist-packages/ipykernel_launcher.py:31: TqdmDeprecationWarning: This function will be removed in tqdm==5.0.0\n",
      "Please use `tqdm.notebook.tqdm` instead of `tqdm.tqdm_notebook`\n"
     ]
    },
    {
     "data": {
      "application/vnd.jupyter.widget-view+json": {
       "model_id": "a912dc15129f4819a46da9305b026378",
       "version_major": 2,
       "version_minor": 0
      },
      "text/plain": [
       "  0%|          | 0/5000 [00:00<?, ?it/s]"
      ]
     },
     "metadata": {},
     "output_type": "display_data"
    },
    {
     "name": "stderr",
     "output_type": "stream",
     "text": [
      "WARNING:matplotlib.legend:No handles with labels found to put in legend.\n"
     ]
    },
    {
     "data": {
      "image/png": "[encoded data removed]",
      "text/plain": [
       "<Figure size 648x288 with 1 Axes>"
      ]
     },
     "metadata": {},
     "output_type": "display_data"
    },
    {
     "name": "stdout",
     "output_type": "stream",
     "text": [
      "Training set Performance\n",
      "[[13874  3622]\n",
      " [ 6763 10733]]\n",
      "F1_Score is : 0.6739505823992968\n",
      "Accuracy is : 0.6134545038866026\n",
      "Precision is : 0.7032178783721994\n",
      "Recall is : 0.7476837338906305\n",
      "Test set Performance\n",
      "[[4938  930]\n",
      " [2745 3123]]\n",
      "F1_Score is : 0.6295736316903539\n",
      "Accuracy is : 0.5322085889570553\n",
      "Precision is : 0.6868609406952966\n",
      "Recall is : 0.770540340488527\n"
     ]
    }
   ],
   "source": [
    "#learning rate:  1e-06  tolerance :  5e-07\n",
    "lr = LogisticRegression(X_train, y_train, learningRate = 1e-06, tolerance = 5e-07, maxIteration=5000)\n",
    "lr.run_model(X_test, y_test)"
   ]
  },
  {
   "cell_type": "markdown",
   "metadata": {
    "id": "JHYDq4yPaT0r"
   },
   "source": [
    "Neural Networks\n",
    "\n"
   ]
  },
  {
   "cell_type": "code",
   "execution_count": null,
   "metadata": {
    "id": "5LleyTXWZo4H"
   },
   "outputs": [],
   "source": [
    "from keras.utils.np_utils import to_categorical\n",
    "from sklearn.model_selection import KFold, cross_val_score, train_test_split\n",
    "import tensorflow as tf\n",
    "from tensorflow import keras\n",
    "from tensorflow.keras import layers\n",
    "from tensorflow.keras.models import Sequential\n",
    "from tensorflow.keras.preprocessing import image_dataset_from_directory\n",
    "from tensorflow.keras.layers import Conv2D, MaxPooling2D, Activation\n",
    "from keras.layers import Activation, Dense\n",
    "from tensorflow.keras.losses import SparseCategoricalCrossentropy"
   ]
  },
  {
   "cell_type": "code",
   "execution_count": null,
   "metadata": {
    "id": "nPemZSbvZo6d"
   },
   "outputs": [],
   "source": [
    "# model = Sequential()\n",
    "# model.add(Dense(units=56, input_dim=24, activation='relu'))\n",
    "# model.add(Dense(128,activation='relu'))\n",
    "# #model.add(Dense(256,activation='relu'))\n",
    "# #model.add(Dense(512,activation='relu'))\n",
    "# model.add(Dense(2, activation='sigmoid'))"
   ]
  },
  {
   "cell_type": "code",
   "execution_count": null,
   "metadata": {
    "id": "d7FPxuwnHxDK"
   },
   "outputs": [],
   "source": [
    "from keras import regularizers\n",
    "model = Sequential()\n",
    "model.add(Dense(units=64, input_dim=24, activation='relu'))\n",
    "model.add(Dense(64, input_dim=64, activation='relu', kernel_regularizer=regularizers.l2(0.01)))\n",
    "#model.add(Dense(32, input_dim=32, kernel_regularizer=regularizers.l2(0.001)))\n",
    "model.add(Dense(2, activation='sigmoid'))"
   ]
  },
  {
   "cell_type": "code",
   "execution_count": null,
   "metadata": {
    "id": "pm24PyKpHRfr"
   },
   "outputs": [],
   "source": [
    "# from keras.layers.core import Dropout\n",
    "\n",
    "# model = Sequential([\n",
    "#  Dense(output_dim = 56, input_dim=24, activation='relu'),\n",
    "#  Dropout(0.25),\n",
    "\n",
    "# Dense(output_dim=128, input_dim=56, activation='relu'),\n",
    "# Dense(2, activation='sigmoid')\n",
    "#  ])"
   ]
  },
  {
   "cell_type": "code",
   "execution_count": null,
   "metadata": {
    "id": "073SyLHCZo9E"
   },
   "outputs": [],
   "source": [
    "model.compile(optimizer=tf.keras.optimizers.Adam(0.00001),\n",
    "              loss=SparseCategoricalCrossentropy(from_logits=True),\n",
    "              metrics=[tf.keras.metrics.SparseCategoricalAccuracy()])"
   ]
  },
  {
   "cell_type": "code",
   "execution_count": null,
   "metadata": {
    "id": "cOiwSF3HagsH"
   },
   "outputs": [],
   "source": [
    "history=model.fit(X_train,y_train,epochs=1000, verbose=1, batch_size=150)"
   ]
  },
  {
   "cell_type": "code",
   "execution_count": null,
   "metadata": {
    "colab": {
     "base_uri": "https://localhost:8080/"
    },
    "id": "9m4uL4Veagpv",
    "outputId": "db087756-fa35-42d5-df10-02548566c4ed"
   },
   "outputs": [
    {
     "name": "stderr",
     "output_type": "stream",
     "text": [
      "/usr/local/lib/python3.7/dist-packages/tensorflow/python/util/dispatch.py:1082: UserWarning: \"`sparse_categorical_crossentropy` received `from_logits=True`, but the `output` argument was produced by a sigmoid or softmax activation and thus does not represent logits. Was this intended?\"\n",
      "  return dispatch_target(*args, **kwargs)\n"
     ]
    }
   ],
   "source": [
    "# evaluate the model\n",
    "train_acc = model.evaluate(X_train, y_train, verbose=0)\n",
    "test_acc = model.evaluate(X_test, y_test, verbose=0)"
   ]
  },
  {
   "cell_type": "code",
   "execution_count": null,
   "metadata": {
    "id": "Y83KH2H-agm4"
   },
   "outputs": [],
   "source": [
    "# Predicting y values on train and test set\n",
    "y_prd_train =  np.around(model.predict(X_train))\n",
    "y_prd_test = np.around(model.predict(X_test))\n",
    "\n",
    "train=[]\n",
    "for i in range(0,len(y_prd_train)):\n",
    "     j=np.argmax(y_prd_train[i])\n",
    "     print(j)\n",
    "     train.append(j)\n",
    "\n",
    "y_prd_train = np.array(train)\n",
    "\n",
    "test=[]\n",
    "for i in range(0,len(y_prd_test)):\n",
    "     j=np.argmax(y_prd_test[i])\n",
    "     print(j)\n",
    "     test.append(j)\n",
    "\n",
    "y_prd_test = np.array(test)"
   ]
  },
  {
   "cell_type": "code",
   "execution_count": null,
   "metadata": {
    "colab": {
     "base_uri": "https://localhost:8080/"
    },
    "id": "ZVIfhzN4Zo_s",
    "outputId": "04eb0942-8159-4c27-e6db-bf073232349d"
   },
   "outputs": [
    {
     "name": "stdout",
     "output_type": "stream",
     "text": [
      "Performance evaluation on training data\n",
      "[[14145  3351]\n",
      " [ 5974 11522]]\n",
      "F1_Score is : 0.7119157218326175\n",
      "Accuracy is : 0.733510516689529\n",
      "Precision is : 0.7746923956162173\n",
      "Recall is : 0.6585505258344765\n",
      "Performance evaluation on test data\n",
      "[[5133  735]\n",
      " [2795 3073]]\n",
      "F1_Score is : 0.635179826374535\n",
      "Accuracy is : 0.6992160872528971\n",
      "Precision is : 0.8069852941176471\n",
      "Recall is : 0.5236877982276755\n"
     ]
    }
   ],
   "source": [
    "#Performance metrics \n",
    "print(\"Performance evaluation on training data\")\n",
    "print(confusion_matrix(y_train, y_prd_train))\n",
    "print(\"F1_Score is :\" , f1_score(y_train, y_prd_train))\n",
    "print(\"Accuracy is :\" , accuracy_score(y_train, y_prd_train))\n",
    "print(\"Precision is :\" , precision_score(y_train, y_prd_train))\n",
    "print(\"Recall is :\" , recall_score(y_train, y_prd_train))\n",
    "\n",
    "print(\"Performance evaluation on test data\")\n",
    "print(confusion_matrix(y_test, y_prd_test))\n",
    "print(\"F1_Score is :\" , f1_score(y_test, y_prd_test))\n",
    "print(\"Accuracy is :\" , accuracy_score(y_test, y_prd_test))\n",
    "print(\"Precision is :\" , precision_score(y_test, y_prd_test))\n",
    "print(\"Recall is :\" , recall_score(y_test, y_prd_test))"
   ]
  },
  {
   "cell_type": "markdown",
   "metadata": {
    "id": "gUYCfoY9CA4N"
   },
   "source": [
    "SVM"
   ]
  },
  {
   "cell_type": "code",
   "execution_count": null,
   "metadata": {
    "id": "KKtbuktiZxaR"
   },
   "outputs": [],
   "source": [
    "y_train_c = y_train.replace({0: -1}).copy()"
   ]
  },
  {
   "cell_type": "code",
   "execution_count": null,
   "metadata": {
    "colab": {
     "base_uri": "https://localhost:8080/"
    },
    "id": "O_oQ13KgsQpY",
    "outputId": "dc9ff308-2adc-45e1-8e8c-b0b6d6abab78"
   },
   "outputs": [
    {
     "data": {
      "text/plain": [
       "0       -1\n",
       "1       -1\n",
       "2        1\n",
       "3        1\n",
       "4        1\n",
       "        ..\n",
       "17995    1\n",
       "17996   -1\n",
       "17997   -1\n",
       "17998   -1\n",
       "17999   -1\n",
       "Name: DEF_PAY, Length: 18000, dtype: int64"
      ]
     },
     "execution_count": 294,
     "metadata": {},
     "output_type": "execute_result"
    }
   ],
   "source": [
    "y_train_c"
   ]
  },
  {
   "cell_type": "code",
   "execution_count": null,
   "metadata": {
    "id": "aT6MyTLesDaz"
   },
   "outputs": [],
   "source": [
    "y_test_c = y_test.replace({0: -1}).copy()"
   ]
  },
  {
   "cell_type": "code",
   "execution_count": null,
   "metadata": {
    "colab": {
     "base_uri": "https://localhost:8080/"
    },
    "id": "Nvm8SmhLsUyW",
    "outputId": "ad805423-b7bb-4bab-99b0-a1646e7f05b6"
   },
   "outputs": [
    {
     "data": {
      "text/plain": [
       "12086    1\n",
       "4522    -1\n",
       "26102   -1\n",
       "28494   -1\n",
       "169     -1\n",
       "        ..\n",
       "199     -1\n",
       "2775    -1\n",
       "19333   -1\n",
       "20269   -1\n",
       "5314    -1\n",
       "Name: DEF_PAY, Length: 6000, dtype: int64"
      ]
     },
     "execution_count": 295,
     "metadata": {},
     "output_type": "execute_result"
    }
   ],
   "source": [
    "y_test_c"
   ]
  },
  {
   "cell_type": "code",
   "execution_count": null,
   "metadata": {
    "id": "UaFJT2uya0IQ"
   },
   "outputs": [],
   "source": [
    "class SVM:\n",
    "    #def _init_(self, max_iter=100, kernel_type='linear', C=1.0, epsilon=0.001 \n",
    "    def _init_(self, max_iter=1, kernel_type='quadratic', C = 3.0, epsilon=0.001):\n",
    "        self.kernels = {\n",
    "            'linear' : self.kernel_linear,\n",
    "            'quadratic' : self.kernel_quadratic,\n",
    "            'gaussian' : self.kernel_gauss\n",
    "        }\n",
    "        self.max_iter = max_iter\n",
    "        self.kernel_type = kernel_type\n",
    "        self.C = C\n",
    "        self.epsilon = epsilon\n",
    "    def fit(self, X, y):\n",
    "        n, d = X.shape[0], X.shape[1]\n",
    "        alpha = np.zeros((n))\n",
    "        self.C = 3.0\n",
    "        self.epsilon = 0.001\n",
    "        self.max_iter = 1\n",
    "        #kernel = self.kernels[self.kernel_type]\n",
    "        kernel = self.kernel_quadratic\n",
    "        count = 0\n",
    "        while True:\n",
    "            count += 1\n",
    "            alpha_prev = np.copy(alpha)\n",
    "            for j in range(0, n):\n",
    "                i = self.get_rnd_int(0, n-1, j) # Get random int i~=j\n",
    "                x_i, x_j, y_i, y_j = X[i,:], X[j,:], y[i], y[j]\n",
    "                k_ij = kernel(x_i, x_i) + kernel(x_j, x_j) - 2 * kernel(x_i, x_j)\n",
    "                if k_ij == 0:\n",
    "                    continue\n",
    "                alpha_prime_j, alpha_prime_i = alpha[j], alpha[i]\n",
    "                (L, H) = self.compute_L_H(self.C, alpha_prime_j, alpha_prime_i, y_j, y_i)\n",
    "\n",
    "                # Compute model parameters\n",
    "                self.w = self.calc_w(alpha, y, X)\n",
    "                self.b = self.calc_b(X, y, self.w)\n",
    "\n",
    "                # Compute E_i, E_j\n",
    "                E_i = self.E(x_i, y_i, self.w, self.b)\n",
    "                E_j = self.E(x_j, y_j, self.w, self.b)\n",
    "\n",
    "                # Set new alpha values\n",
    "                alpha[j] = alpha_prime_j + float(y_j * (E_i - E_j))/k_ij\n",
    "                alpha[j] = max(alpha[j], L)\n",
    "                alpha[j] = min(alpha[j], H)\n",
    "\n",
    "                alpha[i] = alpha_prime_i + y_i*y_j * (alpha_prime_j - alpha[j])\n",
    "#                 if(j % 100 == 0):\n",
    "#                     print(j)\n",
    "            # Check convergence\n",
    "            diff = np.linalg.norm(alpha - alpha_prev)\n",
    "            if diff < self.epsilon:\n",
    "                break\n",
    "            #print(count)\n",
    "            if count >= self.max_iter:\n",
    "                print(\"Iteration number exceeded the max of %d iterations\" % (self.max_iter))\n",
    "                return\n",
    "        self.b = self.calc_b(X, y, self.w)\n",
    "\n",
    "        self.kernel_type = self.kernel_quadratic\n",
    "        if self.kernel_type == self.kernel_linear:\n",
    "            self.w = self.calc_w(alpha, y, X)\n",
    "\n",
    "        # Get support vectors\n",
    "        alpha_idx = np.where(alpha > 0)[0]\n",
    "        support_vectors = X[alpha_idx, :]\n",
    "        return support_vectors, count\n",
    "\n",
    "    def predict(self, X):\n",
    "        #return self.h(X, self.w, self.b)\n",
    "        return np.sign(np.dot(self.w.T, X.T) + self.b).astype(int)\n",
    "\n",
    "    def calc_b(self, X, y, w):\n",
    "        b_tmp = y - np.dot(w.T, X.T)\n",
    "        return np.mean(b_tmp)\n",
    "\n",
    "    def calc_w(self, alpha, y, X):\n",
    "        return np.dot(X.T, np.multiply(alpha,y))\n",
    "\n",
    "    def h(X, w, b):\n",
    "        #wx = w.T\n",
    "        #xx = X.T\n",
    "        return np.sign(np.dot(w.T, X.T) + b).astype(int)\n",
    "\n",
    "    def E(self, x_k, y_k, w, b):\n",
    "        return np.sign(np.dot(w.T, x_k.T) + b).astype(int) - y_k\n",
    "        #return self.h(x_k, w, b) - y_k\n",
    "\n",
    "    def compute_L_H(self, C, alpha_prime_j, alpha_prime_i, y_j, y_i):\n",
    "        if(y_i != y_j):\n",
    "            C = 3.0\n",
    "            return (max(0, alpha_prime_j - alpha_prime_i), min(C, C - alpha_prime_i + alpha_prime_j))\n",
    "        else:\n",
    "            C = 3.0\n",
    "            return (max(0, alpha_prime_i + alpha_prime_j - C), min(C, alpha_prime_i + alpha_prime_j))\n",
    "\n",
    "    def get_rnd_int(self, a,b,z):\n",
    "        i = z\n",
    "        cnt=0\n",
    "        while i == z and cnt<1000:\n",
    "            i = rnd.randint(a,b)\n",
    "            cnt=cnt+1\n",
    "        return i\n",
    "\n",
    "    def kernel_linear(self, x1, x2):\n",
    "        return np.dot(x1, x2.T)\n",
    "\n",
    "    def kernel_quadratic(self, x1, x2):\n",
    "        return (np.dot(x1, x2.T) ** 2)\n",
    "\n",
    "    def kernel_gauss(self,x1, x2, sigma=1):\n",
    "        return np.exp(- (np.linalg.norm(x1 - x2, 2)) * 2 / (2 * sigma * 2))\n",
    "\n",
    "    def predict_proba(self, X):\n",
    "        return np.dot(self.w.T, X.T) + self.b"
   ]
  },
  {
   "cell_type": "code",
   "execution_count": null,
   "metadata": {
    "id": "eHou8dzec0H5"
   },
   "outputs": [],
   "source": [
    "##tt\n",
    "class svm:\n",
    "    def _init_(self, max_iter, kernel_type, C, epsilon):\n",
    "        self.kernels = {\n",
    "            'linear' : self.kernel_linear,\n",
    "            'quadratic' : self.kernel_quadratic,\n",
    "            'gaussian' : self.kernel_gauss}\n",
    "        self.max_iter = max_iter\n",
    "        self.kernel_type = kernel_type\n",
    "        self.C = C\n",
    "        self.epsilon = epsilon\n",
    "        \n",
    "    def fit(self, X, y):\n",
    "        n, d = X.shape[0], X.shape[1]\n",
    "        alpha = np.zeros((n))\n",
    "        kernel = self.kernels[self.kernel_type]\n",
    "        count = 0\n",
    "        while True:\n",
    "            count += 1\n",
    "            alpha_prev = np.copy(alpha)\n",
    "            for j in range(0, n):\n",
    "                print(j)\n",
    "                i = self.get_rnd_int(0, n-1, j) # Get random int i~=j\n",
    "                x_i, x_j, y_i, y_j = X[i,:], X[j,:], y[i], y[j]\n",
    "                k_ij = kernel(x_i, x_i) + kernel(x_j, x_j) - 2 * kernel(x_i, x_j)\n",
    "                if k_ij == 0:\n",
    "                    continue\n",
    "                alpha_prime_j, alpha_prime_i = alpha[j], alpha[i]\n",
    "                (L, H) = self.compute_L_H(self.C, alpha_prime_j, alpha_prime_i, y_j, y_i)\n",
    "\n",
    "                # Compute model parameters\n",
    "                self.w = self.calc_w(alpha, y, X)\n",
    "                self.b = self.calc_b(X, y, self.w)\n",
    "\n",
    "                # Compute E_i, E_j\n",
    "                E_i = self.E(x_i, y_i, self.w, self.b)\n",
    "                E_j = self.E(x_j, y_j, self.w, self.b)\n",
    "\n",
    "                # Set new alpha values\n",
    "                alpha[j] = alpha_prime_j + float(y_j * (E_i - E_j))/k_ij\n",
    "                alpha[j] = max(alpha[j], L)\n",
    "                alpha[j] = min(alpha[j], H)\n",
    "\n",
    "                alpha[i] = alpha_prime_i + y_i*y_j * (alpha_prime_j - alpha[j])\n",
    "#                 if(j % 100 == 0):\n",
    "#                     print(j)\n",
    "            # Check convergence\n",
    "            diff = np.linalg.norm(alpha - alpha_prev)\n",
    "            if diff < self.epsilon:\n",
    "                break\n",
    "            #print(count)\n",
    "            if count >= self.max_iter:\n",
    "                print(\"Iteration number exceeded the max of %d iterations\" % (self.max_iter))\n",
    "                return\n",
    "        self.b = self.calc_b(X, y, self.w)\n",
    "        if self.kernel_type == 'linear':\n",
    "            self.w = self.calc_w(alpha, y, X)\n",
    "        # Get support vectors\n",
    "        alpha_idx = np.where(alpha > 0)[0]\n",
    "        support_vectors = X[alpha_idx, :]\n",
    "        return support_vectors, count\n",
    "    def predict(self, X):\n",
    "        return self.h(X, self.w, self.b)\n",
    "    def calc_b(self, X, y, w):\n",
    "        b_tmp = y - np.dot(w.T, X.T)\n",
    "        return np.mean(b_tmp)\n",
    "    def calc_w(self, alpha, y, X):\n",
    "        return np.dot(X.T, np.multiply(alpha,y))\n",
    "    def h(self, X, w, b):\n",
    "        return np.sign(np.dot(w.T, X.T) + b).astype(int)\n",
    "    def E(self, x_k, y_k, w, b):\n",
    "        return self.h(x_k, w, b) - y_k\n",
    "    def compute_L_H(self, C, alpha_prime_j, alpha_prime_i, y_j, y_i):\n",
    "        if(y_i != y_j):\n",
    "            return (max(0, alpha_prime_j - alpha_prime_i), min(C, C - alpha_prime_i + alpha_prime_j))\n",
    "        else:\n",
    "            return (max(0, alpha_prime_i + alpha_prime_j - C), min(C, alpha_prime_i + alpha_prime_j))\n",
    "    def get_rnd_int(self, a,b,z):\n",
    "        i = z\n",
    "        cnt=0\n",
    "        while i == z and cnt<1000:\n",
    "            i = rnd.randint(a,b)\n",
    "            cnt=cnt+1\n",
    "        return i\n",
    "    def kernel_linear(self, x1, x2):\n",
    "        return np.dot(x1, x2.T)\n",
    "    def kernel_quadratic(self, x1, x2):\n",
    "        return (np.dot(x1, x2.T) ** 2)\n",
    "    def kernel_gauss(self,x1, x2, sigma=1):\n",
    "        return np.exp(- (np.linalg.norm(x1 - x2, 2)) * 2 / (2 * sigma * 2))\n",
    "    def predict_proba(self, X):\n",
    "        return np.dot(self.w.T, X.T) + self.b"
   ]
  },
  {
   "cell_type": "code",
   "execution_count": null,
   "metadata": {
    "id": "Fih9s7zmhAzI"
   },
   "outputs": [],
   "source": []
  },
  {
   "cell_type": "code",
   "execution_count": null,
   "metadata": {
    "id": "gC2kC1P3hAw0"
   },
   "outputs": [],
   "source": []
  },
  {
   "cell_type": "code",
   "execution_count": null,
   "metadata": {
    "id": "KSUY0NZ0hAur"
   },
   "outputs": [],
   "source": []
  },
  {
   "cell_type": "code",
   "execution_count": null,
   "metadata": {
    "id": "_W313kg-hAsG"
   },
   "outputs": [],
   "source": []
  },
  {
   "cell_type": "code",
   "execution_count": null,
   "metadata": {
    "id": "onOnt6X6hAqI"
   },
   "outputs": [],
   "source": []
  },
  {
   "cell_type": "code",
   "execution_count": null,
   "metadata": {
    "id": "T6HVkzl2hAm5"
   },
   "outputs": [],
   "source": []
  },
  {
   "cell_type": "code",
   "execution_count": null,
   "metadata": {
    "id": "17sivKQNhGHv"
   },
   "outputs": [],
   "source": []
  },
  {
   "cell_type": "code",
   "execution_count": null,
   "metadata": {
    "id": "5WwM3eyxhGD_"
   },
   "outputs": [],
   "source": []
  },
  {
   "cell_type": "code",
   "execution_count": null,
   "metadata": {
    "id": "3UXp1TxPhGBT"
   },
   "outputs": [],
   "source": []
  },
  {
   "cell_type": "code",
   "execution_count": null,
   "metadata": {
    "id": "RXZfOm2RhF_O"
   },
   "outputs": [],
   "source": []
  },
  {
   "cell_type": "code",
   "execution_count": null,
   "metadata": {
    "id": "bPpkRg6LhF8n"
   },
   "outputs": [],
   "source": []
  },
  {
   "cell_type": "code",
   "execution_count": null,
   "metadata": {
    "id": "p3QLGHPuhF6N"
   },
   "outputs": [],
   "source": []
  },
  {
   "cell_type": "code",
   "execution_count": null,
   "metadata": {
    "id": "ZpVdFvcLhF39"
   },
   "outputs": [],
   "source": []
  },
  {
   "cell_type": "code",
   "execution_count": null,
   "metadata": {
    "id": "zhiWGXKyhF18"
   },
   "outputs": [],
   "source": []
  },
  {
   "cell_type": "code",
   "execution_count": null,
   "metadata": {
    "id": "9qQTy4yohFy-"
   },
   "outputs": [],
   "source": []
  },
  {
   "cell_type": "code",
   "execution_count": null,
   "metadata": {
    "colab": {
     "base_uri": "https://localhost:8080/",
     "height": 240
    },
    "id": "cgXAFF6ihFwU",
    "outputId": "6ac4713e-ea7e-4405-9406-39f9cbd2486f"
   },
   "outputs": [
    {
     "ename": "TypeError",
     "evalue": "ignored",
     "output_type": "error",
     "traceback": [
      "\u001b[0;31m---------------------------------------------------------------------------\u001b[0m",
      "\u001b[0;31mTypeError\u001b[0m                                 Traceback (most recent call last)",
      "\u001b[0;32m<ipython-input-268-af45316b0a10>\u001b[0m in \u001b[0;36m<module>\u001b[0;34m()\u001b[0m\n\u001b[1;32m    103\u001b[0m \u001b[0;34m\u001b[0m\u001b[0m\n\u001b[1;32m    104\u001b[0m \u001b[0;32mimport\u001b[0m \u001b[0mtime\u001b[0m\u001b[0;34m\u001b[0m\u001b[0;34m\u001b[0m\u001b[0m\n\u001b[0;32m--> 105\u001b[0;31m \u001b[0mmodel\u001b[0m \u001b[0;34m=\u001b[0m \u001b[0msupport_vector_mch\u001b[0m\u001b[0;34m(\u001b[0m\u001b[0mmax_iter\u001b[0m\u001b[0;34m=\u001b[0m\u001b[0;36m3\u001b[0m\u001b[0;34m,\u001b[0m \u001b[0mkernel_type\u001b[0m\u001b[0;34m=\u001b[0m\u001b[0;34m'quadratic'\u001b[0m\u001b[0;34m,\u001b[0m \u001b[0mC\u001b[0m\u001b[0;34m=\u001b[0m\u001b[0;36m3.0\u001b[0m\u001b[0;34m,\u001b[0m \u001b[0mepsilon\u001b[0m\u001b[0;34m=\u001b[0m\u001b[0;36m0.001\u001b[0m\u001b[0;34m)\u001b[0m\u001b[0;34m\u001b[0m\u001b[0;34m\u001b[0m\u001b[0m\n\u001b[0m\u001b[1;32m    106\u001b[0m \u001b[0mstart_time\u001b[0m \u001b[0;34m=\u001b[0m \u001b[0mtime\u001b[0m\u001b[0;34m.\u001b[0m\u001b[0mtime\u001b[0m\u001b[0;34m(\u001b[0m\u001b[0;34m)\u001b[0m\u001b[0;34m\u001b[0m\u001b[0;34m\u001b[0m\u001b[0m\n\u001b[1;32m    107\u001b[0m \u001b[0mmodel\u001b[0m\u001b[0;34m.\u001b[0m\u001b[0mfit\u001b[0m\u001b[0;34m(\u001b[0m\u001b[0mX_train\u001b[0m\u001b[0;34m,\u001b[0m\u001b[0my_train\u001b[0m\u001b[0;34m)\u001b[0m\u001b[0;34m\u001b[0m\u001b[0;34m\u001b[0m\u001b[0m\n",
      "\u001b[0;31mTypeError\u001b[0m: support_vector_mch() takes no arguments"
     ]
    }
   ],
   "source": [
    "# Logistic Regression\n",
    "class support_vector_mch:\n",
    "  def _init_(self, max_iter, kernel_type, C, epsilon):\n",
    "    self.kernels = {\n",
    "          'linear' : self.kernel_linear,\n",
    "          'quadratic' : self.kernel_quadratic,\n",
    "          'gaussian' : self.kernel_gauss}\n",
    "    self.max_iter = max_iter\n",
    "    self.kernel_type = kernel_type\n",
    "    self.C = C\n",
    "    self.epsilon = epsilon\n",
    "        \n",
    "  def fit(self, X, y):\n",
    "    n, d = X.shape[0], X.shape[1]\n",
    "    alpha = np.zeros((n))\n",
    "    kernel = self.kernels[self.kernel_type]\n",
    "    count = 0\n",
    "    while True:\n",
    "        count += 1\n",
    "        alpha_prev = np.copy(alpha)\n",
    "        for j in range(0, n):\n",
    "            print(j)\n",
    "            i = self.get_rnd_int(0, n-1, j) # Get random int i~=j\n",
    "            x_i, x_j, y_i, y_j = X[i,:], X[j,:], y[i], y[j]\n",
    "            k_ij = kernel(x_i, x_i) + kernel(x_j, x_j) - 2 * kernel(x_i, x_j)\n",
    "            if k_ij == 0:\n",
    "                continue\n",
    "            alpha_prime_j, alpha_prime_i = alpha[j], alpha[i]\n",
    "            (L, H) = self.compute_L_H(self.C, alpha_prime_j, alpha_prime_i, y_j, y_i)\n",
    "\n",
    "                # Compute model parameters\n",
    "            self.w = self.calc_w(alpha, y, X)\n",
    "            self.b = self.calc_b(X, y, self.w)\n",
    "\n",
    "                # Compute E_i, E_j\n",
    "            E_i = self.E(x_i, y_i, self.w, self.b)\n",
    "            E_j = self.E(x_j, y_j, self.w, self.b)\n",
    "\n",
    "                # Set new alpha values\n",
    "            alpha[j] = alpha_prime_j + float(y_j * (E_i - E_j))/k_ij\n",
    "            alpha[j] = max(alpha[j], L)\n",
    "            alpha[j] = min(alpha[j], H)\n",
    "\n",
    "            alpha[i] = alpha_prime_i + y_i*y_j * (alpha_prime_j - alpha[j])\n",
    "#                 if(j % 100 == 0):\n",
    "#                     print(j)\n",
    "            # Check convergence\n",
    "        diff = np.linalg.norm(alpha - alpha_prev)\n",
    "        if diff < self.epsilon:\n",
    "            break\n",
    "            #print(count)\n",
    "        if count >= self.max_iter:\n",
    "            print(\"Iteration number exceeded the max of %d iterations\" % (self.max_iter))\n",
    "            return\n",
    "    self.b = self.calc_b(X, y, self.w)\n",
    "    if self.kernel_type == 'linear':\n",
    "        self.w = self.calc_w(alpha, y, X)\n",
    "        # Get support vectors\n",
    "    alpha_idx = np.where(alpha > 0)[0]\n",
    "    support_vectors = X[alpha_idx, :]\n",
    "    return support_vectors, count\n",
    "    \n",
    "  def predict(self, X):\n",
    "    return self.h(X, self.w, self.b)\n",
    "    \n",
    "  def calc_b(self, X, y, w):\n",
    "    b_tmp = y - np.dot(w.T, X.T)\n",
    "    return np.mean(b_tmp)\n",
    "\n",
    "  def calc_w(self, alpha, y, X):\n",
    "    return np.dot(X.T, np.multiply(alpha,y))\n",
    "\n",
    "  def h(self, X, w, b):\n",
    "    return np.sign(np.dot(w.T, X.T) + b).astype(int)\n",
    "\n",
    "  def E(self, x_k, y_k, w, b):\n",
    "    return self.h(x_k, w, b) - y_k\n",
    "  def compute_L_H(self, C, alpha_prime_j, alpha_prime_i, y_j, y_i):\n",
    "    if(y_i != y_j):\n",
    "        return (max(0, alpha_prime_j - alpha_prime_i), min(C, C - alpha_prime_i + alpha_prime_j))\n",
    "    else:\n",
    "        return (max(0, alpha_prime_i + alpha_prime_j - C), min(C, alpha_prime_i + alpha_prime_j))\n",
    "    \n",
    "  def get_rnd_int(self, a,b,z):\n",
    "    i = z\n",
    "    cnt=0\n",
    "    while i == z and cnt<1000:\n",
    "        i = rnd.randint(a,b)\n",
    "        cnt=cnt+1\n",
    "    return i\n",
    "\n",
    "  def kernel_linear(self, x1, x2):\n",
    "    return np.dot(x1, x2.T)\n",
    "\n",
    "  def kernel_quadratic(self, x1, x2):\n",
    "    return (np.dot(x1, x2.T) ** 2)\n",
    "\n",
    "  def kernel_gauss(self,x1, x2, sigma=1):\n",
    "    return np.exp(- (np.linalg.norm(x1 - x2, 2)) * 2 / (2 * sigma * 2))\n",
    "\n",
    "  def predict_proba(self, X):\n",
    "    return np.dot(self.w.T, X.T) + self.b\n",
    "  \n",
    "import time\n",
    "model = support_vector_mch(max_iter=3, kernel_type='quadratic', C=3.0, epsilon=0.001)\n",
    "start_time = time.time()\n",
    "model.fit(X_train,y_train)\n",
    "print(\"--- %s mins ---\" % ((time.time() - start_time)/60.0))"
   ]
  },
  {
   "cell_type": "code",
   "execution_count": null,
   "metadata": {
    "colab": {
     "base_uri": "https://localhost:8080/",
     "height": 240
    },
    "id": "0TSUF5nVc9TX",
    "outputId": "93dc1149-e3b3-4029-d4c5-b6059e26fd03"
   },
   "outputs": [
    {
     "ename": "TypeError",
     "evalue": "ignored",
     "output_type": "error",
     "traceback": [
      "\u001b[0;31m---------------------------------------------------------------------------\u001b[0m",
      "\u001b[0;31mTypeError\u001b[0m                                 Traceback (most recent call last)",
      "\u001b[0;32m<ipython-input-298-6c3509149da7>\u001b[0m in \u001b[0;36m<module>\u001b[0;34m()\u001b[0m\n\u001b[1;32m      1\u001b[0m \u001b[0;32mimport\u001b[0m \u001b[0mtime\u001b[0m\u001b[0;34m\u001b[0m\u001b[0;34m\u001b[0m\u001b[0m\n\u001b[0;32m----> 2\u001b[0;31m \u001b[0mmodel\u001b[0m \u001b[0;34m=\u001b[0m \u001b[0msvm\u001b[0m\u001b[0;34m(\u001b[0m\u001b[0mmax_iter\u001b[0m\u001b[0;34m=\u001b[0m\u001b[0;36m3\u001b[0m\u001b[0;34m,\u001b[0m \u001b[0mkernel_type\u001b[0m\u001b[0;34m=\u001b[0m\u001b[0;34m'quadratic'\u001b[0m\u001b[0;34m,\u001b[0m \u001b[0mC\u001b[0m\u001b[0;34m=\u001b[0m\u001b[0;36m3.0\u001b[0m\u001b[0;34m,\u001b[0m \u001b[0mepsilon\u001b[0m\u001b[0;34m=\u001b[0m\u001b[0;36m0.001\u001b[0m\u001b[0;34m)\u001b[0m\u001b[0;34m\u001b[0m\u001b[0;34m\u001b[0m\u001b[0m\n\u001b[0m\u001b[1;32m      3\u001b[0m \u001b[0mstart_time\u001b[0m \u001b[0;34m=\u001b[0m \u001b[0mtime\u001b[0m\u001b[0;34m.\u001b[0m\u001b[0mtime\u001b[0m\u001b[0;34m(\u001b[0m\u001b[0;34m)\u001b[0m\u001b[0;34m\u001b[0m\u001b[0;34m\u001b[0m\u001b[0m\n\u001b[1;32m      4\u001b[0m \u001b[0mmodel\u001b[0m\u001b[0;34m.\u001b[0m\u001b[0mfit\u001b[0m\u001b[0;34m(\u001b[0m\u001b[0mX_train\u001b[0m\u001b[0;34m,\u001b[0m\u001b[0my_train_c\u001b[0m\u001b[0;34m)\u001b[0m\u001b[0;34m\u001b[0m\u001b[0;34m\u001b[0m\u001b[0m\n\u001b[1;32m      5\u001b[0m \u001b[0mprint\u001b[0m\u001b[0;34m(\u001b[0m\u001b[0;34m\"--- %s mins ---\"\u001b[0m \u001b[0;34m%\u001b[0m \u001b[0;34m(\u001b[0m\u001b[0;34m(\u001b[0m\u001b[0mtime\u001b[0m\u001b[0;34m.\u001b[0m\u001b[0mtime\u001b[0m\u001b[0;34m(\u001b[0m\u001b[0;34m)\u001b[0m \u001b[0;34m-\u001b[0m \u001b[0mstart_time\u001b[0m\u001b[0;34m)\u001b[0m\u001b[0;34m/\u001b[0m\u001b[0;36m60.0\u001b[0m\u001b[0;34m)\u001b[0m\u001b[0;34m)\u001b[0m\u001b[0;34m\u001b[0m\u001b[0;34m\u001b[0m\u001b[0m\n",
      "\u001b[0;31mTypeError\u001b[0m: svm() takes no arguments"
     ]
    }
   ],
   "source": [
    "#tt\n",
    "import time\n",
    "model = svm(max_iter=3, kernel_type='quadratic', C=3.0, epsilon=0.001)\n",
    "start_time = time.time()\n",
    "model.fit(X_train,y_train_c)\n",
    "print(\"--- %s mins ---\" % ((time.time() - start_time)/60.0))"
   ]
  },
  {
   "cell_type": "code",
   "execution_count": null,
   "metadata": {
    "colab": {
     "base_uri": "https://localhost:8080/"
    },
    "id": "RUnd4NaJQMCf",
    "outputId": "f56126f7-e33f-46f9-f07d-3d1a1b4bf5c5"
   },
   "outputs": [
    {
     "name": "stdout",
     "output_type": "stream",
     "text": [
      "--- 0.4285930395126343 mins ---\n"
     ]
    }
   ],
   "source": [
    "import time\n",
    "model = SVM()\n",
    "start_time = time.time()\n",
    "model.fit(X_train.astype(float).to_numpy(),y_train_c.astype(float).to_numpy())\n",
    "print(\"--- %s mins ---\" % ((time.time() - start_time)/60.0))"
   ]
  },
  {
   "cell_type": "code",
   "execution_count": null,
   "metadata": {
    "id": "P52DziI4bwTp"
   },
   "outputs": [],
   "source": [
    "for x in X_test.values:\n",
    "  print(x)"
   ]
  },
  {
   "cell_type": "code",
   "execution_count": null,
   "metadata": {
    "colab": {
     "base_uri": "https://localhost:8080/"
    },
    "id": "9-TaRhDDCZK1",
    "outputId": "3041fa87-bd51-4874-89e4-8f73c2c84a87"
   },
   "outputs": [
    {
     "name": "stdout",
     "output_type": "stream",
     "text": [
      "[[4673    0]\n",
      " [1327    0]]\n",
      "0.7788333333333334\n",
      "recall: 0.0\n",
      "precision: 0.0\n"
     ]
    },
    {
     "name": "stderr",
     "output_type": "stream",
     "text": [
      "/usr/local/lib/python3.7/dist-packages/sklearn/metrics/_classification.py:1318: UndefinedMetricWarning: Precision is ill-defined and being set to 0.0 due to no predicted samples. Use `zero_division` parameter to control this behavior.\n",
      "  _warn_prf(average, modifier, msg_start, len(result))\n"
     ]
    }
   ],
   "source": [
    "from sklearn.metrics import precision_score, recall_score\n",
    "\n",
    "\n",
    "Y_predicted = [model.predict(x) for x in X_test.values]\n",
    "cm = confusion_matrix(y_test_c, Y_predicted)\n",
    "accuracy = (cm[0][0] + cm[1][1]) / (cm[0][0] + cm[0][1] + cm[1][0] + cm[1][1])\n",
    "print(cm)\n",
    "print(accuracy)\n",
    "print('recall: ' + str(recall_score(y_true = y_test_c, y_pred=Y_predicted)))\n",
    "print('precision: ' + str(precision_score(y_true = y_test_c, y_pred=Y_predicted)))"
   ]
  }
 ],
 "metadata": {
  "colab": {
   "collapsed_sections": [],
   "name": "ML.ipynb",
   "provenance": []
  },
  "gpuClass": "standard",
  "kernelspec": {
   "display_name": "Python 3",
   "language": "python",
   "name": "python3"
  },
  "language_info": {
   "codemirror_mode": {
    "name": "ipython",
    "version": 3
   },
   "file_extension": ".py",
   "mimetype": "text/x-python",
   "name": "python",
   "nbconvert_exporter": "python",
   "pygments_lexer": "ipython3",
   "version": "3.8.8"
  },
  "widgets": {
   "application/vnd.jupyter.widget-state+json": {
    "3b11f54c9d9645a387a22977c51453ec": {
     "model_module": "@jupyter-widgets/base",
     "model_module_version": "1.2.0",
     "model_name": "LayoutModel",
     "state": {
      "_model_module": "@jupyter-widgets/base",
      "_model_module_version": "1.2.0",
      "_model_name": "LayoutModel",
      "_view_count": null,
      "_view_module": "@jupyter-widgets/base",
      "_view_module_version": "1.2.0",
      "_view_name": "LayoutView",
      "align_content": null,
      "align_items": null,
      "align_self": null,
      "border": null,
      "bottom": null,
      "display": null,
      "flex": null,
      "flex_flow": null,
      "grid_area": null,
      "grid_auto_columns": null,
      "grid_auto_flow": null,
      "grid_auto_rows": null,
      "grid_column": null,
      "grid_gap": null,
      "grid_row": null,
      "grid_template_areas": null,
      "grid_template_columns": null,
      "grid_template_rows": null,
      "height": null,
      "justify_content": null,
      "justify_items": null,
      "left": null,
      "margin": null,
      "max_height": null,
      "max_width": null,
      "min_height": null,
      "min_width": null,
      "object_fit": null,
      "object_position": null,
      "order": null,
      "overflow": null,
      "overflow_x": null,
      "overflow_y": null,
      "padding": null,
      "right": null,
      "top": null,
      "visibility": null,
      "width": null
     }
    },
    "5a8b4de2a91f4f96820df97bc40e0aec": {
     "model_module": "@jupyter-widgets/controls",
     "model_module_version": "1.5.0",
     "model_name": "DescriptionStyleModel",
     "state": {
      "_model_module": "@jupyter-widgets/controls",
      "_model_module_version": "1.5.0",
      "_model_name": "DescriptionStyleModel",
      "_view_count": null,
      "_view_module": "@jupyter-widgets/base",
      "_view_module_version": "1.2.0",
      "_view_name": "StyleView",
      "description_width": ""
     }
    },
    "7876f53ea20e43cabfabdad04eda5722": {
     "model_module": "@jupyter-widgets/base",
     "model_module_version": "1.2.0",
     "model_name": "LayoutModel",
     "state": {
      "_model_module": "@jupyter-widgets/base",
      "_model_module_version": "1.2.0",
      "_model_name": "LayoutModel",
      "_view_count": null,
      "_view_module": "@jupyter-widgets/base",
      "_view_module_version": "1.2.0",
      "_view_name": "LayoutView",
      "align_content": null,
      "align_items": null,
      "align_self": null,
      "border": null,
      "bottom": null,
      "display": null,
      "flex": null,
      "flex_flow": null,
      "grid_area": null,
      "grid_auto_columns": null,
      "grid_auto_flow": null,
      "grid_auto_rows": null,
      "grid_column": null,
      "grid_gap": null,
      "grid_row": null,
      "grid_template_areas": null,
      "grid_template_columns": null,
      "grid_template_rows": null,
      "height": null,
      "justify_content": null,
      "justify_items": null,
      "left": null,
      "margin": null,
      "max_height": null,
      "max_width": null,
      "min_height": null,
      "min_width": null,
      "object_fit": null,
      "object_position": null,
      "order": null,
      "overflow": null,
      "overflow_x": null,
      "overflow_y": null,
      "padding": null,
      "right": null,
      "top": null,
      "visibility": null,
      "width": null
     }
    },
    "8a9b941ad47343aa86bcc863f7b3c311": {
     "model_module": "@jupyter-widgets/controls",
     "model_module_version": "1.5.0",
     "model_name": "DescriptionStyleModel",
     "state": {
      "_model_module": "@jupyter-widgets/controls",
      "_model_module_version": "1.5.0",
      "_model_name": "DescriptionStyleModel",
      "_view_count": null,
      "_view_module": "@jupyter-widgets/base",
      "_view_module_version": "1.2.0",
      "_view_name": "StyleView",
      "description_width": ""
     }
    },
    "9fc216fa30b1485583217faa37275628": {
     "model_module": "@jupyter-widgets/controls",
     "model_module_version": "1.5.0",
     "model_name": "HTMLModel",
     "state": {
      "_dom_classes": [],
      "_model_module": "@jupyter-widgets/controls",
      "_model_module_version": "1.5.0",
      "_model_name": "HTMLModel",
      "_view_count": null,
      "_view_module": "@jupyter-widgets/controls",
      "_view_module_version": "1.5.0",
      "_view_name": "HTMLView",
      "description": "",
      "description_tooltip": null,
      "layout": "IPY_MODEL_c0621ed56dfc4633910f9ac214a73deb",
      "placeholder": "​",
      "style": "IPY_MODEL_8a9b941ad47343aa86bcc863f7b3c311",
      "value": "100%"
     }
    },
    "a912dc15129f4819a46da9305b026378": {
     "model_module": "@jupyter-widgets/controls",
     "model_module_version": "1.5.0",
     "model_name": "HBoxModel",
     "state": {
      "_dom_classes": [],
      "_model_module": "@jupyter-widgets/controls",
      "_model_module_version": "1.5.0",
      "_model_name": "HBoxModel",
      "_view_count": null,
      "_view_module": "@jupyter-widgets/controls",
      "_view_module_version": "1.5.0",
      "_view_name": "HBoxView",
      "box_style": "",
      "children": [
       "IPY_MODEL_9fc216fa30b1485583217faa37275628",
       "IPY_MODEL_c30d0ac45b854435b919b65ffef50a57",
       "IPY_MODEL_fd60ef0bbb7b42ab8b1a91e9a87a97d7"
      ],
      "layout": "IPY_MODEL_c425a428dd964649bc98cf223c1c4001"
     }
    },
    "c0621ed56dfc4633910f9ac214a73deb": {
     "model_module": "@jupyter-widgets/base",
     "model_module_version": "1.2.0",
     "model_name": "LayoutModel",
     "state": {
      "_model_module": "@jupyter-widgets/base",
      "_model_module_version": "1.2.0",
      "_model_name": "LayoutModel",
      "_view_count": null,
      "_view_module": "@jupyter-widgets/base",
      "_view_module_version": "1.2.0",
      "_view_name": "LayoutView",
      "align_content": null,
      "align_items": null,
      "align_self": null,
      "border": null,
      "bottom": null,
      "display": null,
      "flex": null,
      "flex_flow": null,
      "grid_area": null,
      "grid_auto_columns": null,
      "grid_auto_flow": null,
      "grid_auto_rows": null,
      "grid_column": null,
      "grid_gap": null,
      "grid_row": null,
      "grid_template_areas": null,
      "grid_template_columns": null,
      "grid_template_rows": null,
      "height": null,
      "justify_content": null,
      "justify_items": null,
      "left": null,
      "margin": null,
      "max_height": null,
      "max_width": null,
      "min_height": null,
      "min_width": null,
      "object_fit": null,
      "object_position": null,
      "order": null,
      "overflow": null,
      "overflow_x": null,
      "overflow_y": null,
      "padding": null,
      "right": null,
      "top": null,
      "visibility": null,
      "width": null
     }
    },
    "c30d0ac45b854435b919b65ffef50a57": {
     "model_module": "@jupyter-widgets/controls",
     "model_module_version": "1.5.0",
     "model_name": "FloatProgressModel",
     "state": {
      "_dom_classes": [],
      "_model_module": "@jupyter-widgets/controls",
      "_model_module_version": "1.5.0",
      "_model_name": "FloatProgressModel",
      "_view_count": null,
      "_view_module": "@jupyter-widgets/controls",
      "_view_module_version": "1.5.0",
      "_view_name": "ProgressView",
      "bar_style": "success",
      "description": "",
      "description_tooltip": null,
      "layout": "IPY_MODEL_3b11f54c9d9645a387a22977c51453ec",
      "max": 5000,
      "min": 0,
      "orientation": "horizontal",
      "style": "IPY_MODEL_f6dd73feca694e11ad23c9b97fa2b49f",
      "value": 5000
     }
    },
    "c425a428dd964649bc98cf223c1c4001": {
     "model_module": "@jupyter-widgets/base",
     "model_module_version": "1.2.0",
     "model_name": "LayoutModel",
     "state": {
      "_model_module": "@jupyter-widgets/base",
      "_model_module_version": "1.2.0",
      "_model_name": "LayoutModel",
      "_view_count": null,
      "_view_module": "@jupyter-widgets/base",
      "_view_module_version": "1.2.0",
      "_view_name": "LayoutView",
      "align_content": null,
      "align_items": null,
      "align_self": null,
      "border": null,
      "bottom": null,
      "display": null,
      "flex": null,
      "flex_flow": null,
      "grid_area": null,
      "grid_auto_columns": null,
      "grid_auto_flow": null,
      "grid_auto_rows": null,
      "grid_column": null,
      "grid_gap": null,
      "grid_row": null,
      "grid_template_areas": null,
      "grid_template_columns": null,
      "grid_template_rows": null,
      "height": null,
      "justify_content": null,
      "justify_items": null,
      "left": null,
      "margin": null,
      "max_height": null,
      "max_width": null,
      "min_height": null,
      "min_width": null,
      "object_fit": null,
      "object_position": null,
      "order": null,
      "overflow": null,
      "overflow_x": null,
      "overflow_y": null,
      "padding": null,
      "right": null,
      "top": null,
      "visibility": null,
      "width": null
     }
    },
    "f6dd73feca694e11ad23c9b97fa2b49f": {
     "model_module": "@jupyter-widgets/controls",
     "model_module_version": "1.5.0",
     "model_name": "ProgressStyleModel",
     "state": {
      "_model_module": "@jupyter-widgets/controls",
      "_model_module_version": "1.5.0",
      "_model_name": "ProgressStyleModel",
      "_view_count": null,
      "_view_module": "@jupyter-widgets/base",
      "_view_module_version": "1.2.0",
      "_view_name": "StyleView",
      "bar_color": null,
      "description_width": ""
     }
    },
    "fd60ef0bbb7b42ab8b1a91e9a87a97d7": {
     "model_module": "@jupyter-widgets/controls",
     "model_module_version": "1.5.0",
     "model_name": "HTMLModel",
     "state": {
      "_dom_classes": [],
      "_model_module": "@jupyter-widgets/controls",
      "_model_module_version": "1.5.0",
      "_model_name": "HTMLModel",
      "_view_count": null,
      "_view_module": "@jupyter-widgets/controls",
      "_view_module_version": "1.5.0",
      "_view_name": "HTMLView",
      "description": "",
      "description_tooltip": null,
      "layout": "IPY_MODEL_7876f53ea20e43cabfabdad04eda5722",
      "placeholder": "​",
      "style": "IPY_MODEL_5a8b4de2a91f4f96820df97bc40e0aec",
      "value": " 5000/5000 [00:55&lt;00:00, 110.50it/s]"
     }
    }
   }
  }
 },
 "nbformat": 4,
 "nbformat_minor": 1
}
